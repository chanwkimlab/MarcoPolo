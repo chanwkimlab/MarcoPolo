{
 "cells": [
  {
   "cell_type": "code",
   "execution_count": null,
   "metadata": {
    "scrolled": true
   },
   "outputs": [],
   "source": [
    "#install.packages(\"singleCellHaystack\")"
   ]
  },
  {
   "cell_type": "code",
   "execution_count": null,
   "metadata": {},
   "outputs": [],
   "source": [
    "getwd()\n",
    "setwd('..')\n",
    "getwd()"
   ]
  },
  {
   "cell_type": "code",
   "execution_count": null,
   "metadata": {
    "scrolled": true
   },
   "outputs": [],
   "source": [
    "library(singleCellHaystack)"
   ]
  },
  {
   "cell_type": "code",
   "execution_count": null,
   "metadata": {},
   "outputs": [],
   "source": [
    "set.seed(1234)"
   ]
  },
  {
   "cell_type": "code",
   "execution_count": null,
   "metadata": {
    "scrolled": true
   },
   "outputs": [],
   "source": [
    "library(Matrix)\n",
    "library(Seurat)\n",
    "library(mclust)\n",
    "library(SingleCellExperiment)\n",
    "#library(clustree)\n",
    "#citation(\"mclust\")"
   ]
  },
  {
   "cell_type": "code",
   "execution_count": null,
   "metadata": {},
   "outputs": [],
   "source": [
    "read_in_data <-function(save_name){\n",
    "    exp_data=readMM(sprintf(\"datasets/extract/%s.data.counts.mm\",save_name))\n",
    " \n",
    "    exp_data_row=read.table(sprintf('datasets/extract/%s.data.row',save_name))$V1\n",
    "    exp_data_col=read.table(sprintf('datasets/extract/%s.data.col',save_name))$V1    \n",
    "    rownames(exp_data)=exp_data_row\n",
    "    colnames(exp_data)=exp_data_col    \n",
    "\n",
    "    metadatarow=read.table(sprintf('datasets/extract/%s.metadatarow.tsv',save_name),sep='\\t')\n",
    "    metadatacol=read.table(sprintf('datasets/extract/%s.metadatacol.tsv',save_name),sep='\\t')  \n",
    "    \n",
    "    metadatacol['size_factor']=read.table(sprintf('datasets/extract/%s.size_factor.tsv',save_name),sep='\\t')$V1\n",
    "\n",
    "    sce <- SingleCellExperiment(list(counts=as.matrix(exp_data)),rowData=metadatarow,colData=metadatacol)\n",
    "    sce\n",
    "}  \n",
    "\n",
    "calculate_low_dim <-function(sce, pca_dim=10){\n",
    "    counts = assay(sce, \"counts\")\n",
    "    seurat <- CreateSeuratObject(counts = counts, project = \"scRNAseq\", assay = \"RNA\",\n",
    "                                         min.cells = 0, min.features = 0)\n",
    "    \n",
    "    seurat <- NormalizeData(seurat); seurat <- ScaleData(seurat,features = rownames(seurat)); seurat <- FindVariableFeatures(seurat, selection.method = \"vst\", nfeatures = 2000)\n",
    "    seurat <- RunPCA(seurat, features = VariableFeatures(object = seurat)); seurat <- RunTSNE(seurat, dims= 1:pca_dim)\n",
    "    reducedDims(sce) <- list(PCA=Embeddings(seurat, reduction = \"pca\")[,1:pca_dim], TSNE=Embeddings(seurat, reduction = \"tsne\"))\n",
    "    sce\n",
    "}"
   ]
  },
  {
   "cell_type": "code",
   "execution_count": null,
   "metadata": {},
   "outputs": [],
   "source": [
    "dataset_name_all=list(\n",
    "'Kohinbulk_filtered',\n",
    "'HumanLiver_filtered',\n",
    "'Zhengmix8eq_filtered')\n",
    "\n",
    "length(dataset_name_all)"
   ]
  },
  {
   "cell_type": "code",
   "execution_count": null,
   "metadata": {},
   "outputs": [],
   "source": [
    "dataset_name_all=list()\n",
    "for (ncells_total in c('1000','2000','5000','10000')){\n",
    "    for (prop in c('1e-2','5e-3','1e-3','5e-4')){\n",
    "        for(i in c(1:10)){\n",
    "            dataset_name<-sprintf('Simul_%s_%s_%s_filtered',ncells_total,prop,i)\n",
    "            dataset_name_all<-append(dataset_name_all,dataset_name)\n",
    "        }\n",
    "\n",
    "    }\n",
    "}"
   ]
  },
  {
   "cell_type": "code",
   "execution_count": null,
   "metadata": {},
   "outputs": [],
   "source": [
    "dataset_name_all"
   ]
  },
  {
   "cell_type": "code",
   "execution_count": null,
   "metadata": {},
   "outputs": [],
   "source": [
    "tabula_name_all=list(\"TabulaAorta_filtered\",\n",
    "\"TabulaBladder_filtered\",\n",
    "\"TabulaBrainMyeloid_filtered\",\n",
    "\"TabulaBrainNonMyeloid_filtered\",\n",
    "\"TabulaDiaphragm_filtered\",\n",
    "\"TabulaFat_filtered\",\n",
    "\"TabulaHeart_filtered\",\n",
    "\"TabulaKidney_filtered\",\n",
    "\"TabulaLargeIntestine_filtered\",\n",
    "\"TabulaLimbMuscle_filtered\",\n",
    "\"TabulaLiver_filtered\",\n",
    "\"TabulaLung_filtered\",\n",
    "\"TabulaMammaryGland_filtered\",\n",
    "\"TabulaMarrow_filtered\",\n",
    "\"TabulaPancreas_filtered\",\n",
    "\"TabulaSkin_filtered\",\n",
    "\"TabulaSpleen_filtered\",\n",
    "\"TabulaThymus_filtered\",\n",
    "\"TabulaTongue_filtered\",\n",
    "\"TabulaTrachea_filtered\")"
   ]
  },
  {
   "cell_type": "code",
   "execution_count": null,
   "metadata": {},
   "outputs": [],
   "source": [
    "#taskset -c 12,13,14,15 Rscript 4_exp1_step2_clustering_1-Copy2.r\n",
    "#taskset -c 16,17,18,19 Rscript 4_exp1_step2_clustering_1-Copy3.r"
   ]
  },
  {
   "cell_type": "code",
   "execution_count": null,
   "metadata": {},
   "outputs": [],
   "source": [
    "head(dataset_name_all)"
   ]
  },
  {
   "cell_type": "code",
   "execution_count": null,
   "metadata": {},
   "outputs": [],
   "source": [
    "dataset_name_all=tabula_name_all"
   ]
  },
  {
   "cell_type": "code",
   "execution_count": null,
   "metadata": {},
   "outputs": [],
   "source": [
    "dataset_name_all"
   ]
  },
  {
   "cell_type": "code",
   "execution_count": null,
   "metadata": {
    "scrolled": true
   },
   "outputs": [],
   "source": [
    "for(dataset_name in dataset_name_all[1:length(dataset_name_all)]){\n",
    "    print(dataset_name)\n",
    "    \n",
    "    start_time=as.numeric(Sys.time())\n",
    "    \n",
    "    seurat=read_in_data(dataset_name)\n",
    "    \n",
    "    seurat=calculate_low_dim(seurat, pca_dim=10)\n",
    "    \n",
    "    end_time=as.numeric(Sys.time())\n",
    "    \n",
    "    time_preprocessing=end_time-start_time\n",
    "    \n",
    "    start_time=as.numeric(Sys.time())\n",
    "    res <- haystack(sce, cutoff=apply(assay(sce, \"counts\"), 1, 'median'))\n",
    "    end_time=as.numeric(Sys.time())\n",
    "    time=end_time-start_time\n",
    "    \n",
    "    \n",
    "    write.table(res$result[order(res$result['log.p.adj']),],\n",
    "                file=sprintf('datasets/extract/%s.hvg.ht.pca.tsv',dataset_name),\n",
    "                sep='\\t',\n",
    "                row.names=TRUE, \n",
    "                col.names=TRUE)   \n",
    "    \n",
    "    write.table(time_preprocessing+time,\n",
    "                file=sprintf('datasets/extract/%s.hvg.ht.pca.runtime.tsv',dataset_name),\n",
    "                sep='\\t',\n",
    "                row.names=FALSE, \n",
    "                col.names=FALSE)          \n",
    "    \n",
    "    \n",
    "}"
   ]
  }
 ],
 "metadata": {
  "kernelspec": {
   "display_name": "R",
   "language": "R",
   "name": "ir"
  },
  "language_info": {
   "codemirror_mode": "r",
   "file_extension": ".r",
   "mimetype": "text/x-r-source",
   "name": "R",
   "pygments_lexer": "r",
   "version": "4.0.3"
  }
 },
 "nbformat": 4,
 "nbformat_minor": 4
}
