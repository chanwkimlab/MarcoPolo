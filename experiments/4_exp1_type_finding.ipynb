{
 "cells": [
  {
   "cell_type": "code",
   "execution_count": null,
   "metadata": {},
   "outputs": [],
   "source": [
    "import os\n",
    "print(os.getcwd());os.chdir('../')\n",
    "print(os.getcwd())"
   ]
  },
  {
   "cell_type": "code",
   "execution_count": null,
   "metadata": {},
   "outputs": [],
   "source": [
    "import sys\n",
    "\n",
    "import numpy as np\n",
    "import pandas as pd\n",
    "\n",
    "from scipy.io import mmread\n",
    "\n",
    "import MarcoPolo.QQscore as QQ"
   ]
  },
  {
   "cell_type": "code",
   "execution_count": null,
   "metadata": {},
   "outputs": [],
   "source": [
    "dataset_name_all=[\n",
    "'Kohinbulk_filtered',\n",
    "'HumanLiver_filtered',\n",
    "'Zhengmix8eq_filtered'  \n",
    "]"
   ]
  },
  {
   "cell_type": "code",
   "execution_count": null,
   "metadata": {},
   "outputs": [],
   "source": [
    "mode=2"
   ]
  },
  {
   "cell_type": "code",
   "execution_count": null,
   "metadata": {},
   "outputs": [],
   "source": [
    "#gene_info=pd.read_csv('datasets/Homo_sapiens.gene_info.gz',sep='\\t')"
   ]
  },
  {
   "cell_type": "code",
   "execution_count": null,
   "metadata": {},
   "outputs": [],
   "source": [
    "dataset_name_all=dataset_name_all+[\"TabulaAorta_filtered\",\n",
    "\"TabulaBladder_filtered\",\n",
    "\"TabulaBrainMyeloid_filtered\",\n",
    "\"TabulaBrainNonMyeloid_filtered\",\n",
    "\"TabulaDiaphragm_filtered\",\n",
    "\"TabulaFat_filtered\",\n",
    "\"TabulaHeart_filtered\",\n",
    "\"TabulaKidney_filtered\",\n",
    "\"TabulaLargeIntestine_filtered\",\n",
    "\"TabulaLimbMuscle_filtered\",\n",
    "\"TabulaLiver_filtered\",\n",
    "\"TabulaLung_filtered\",\n",
    "\"TabulaMammaryGland_filtered\",\n",
    "\"TabulaMarrow_filtered\",\n",
    "\"TabulaPancreas_filtered\",\n",
    "\"TabulaSkin_filtered\",\n",
    "\"TabulaSpleen_filtered\",\n",
    "\"TabulaThymus_filtered\",\n",
    "\"TabulaTongue_filtered\",\n",
    "\"TabulaTrachea_filtered\"]"
   ]
  },
  {
   "cell_type": "code",
   "execution_count": null,
   "metadata": {},
   "outputs": [],
   "source": [
    "dataset_simul_all=[]\n",
    "for ncells_total in [1000,2000,5000,10000]:\n",
    "    for prop in ['1e-2','5e-3','1e-3','5e-4']:\n",
    "        for i in range(1,10+1):\n",
    "            dataset_simul_all.append('Simul_{}_{}_{}_filtered'.format(ncells_total,prop,i))"
   ]
  },
  {
   "cell_type": "code",
   "execution_count": null,
   "metadata": {},
   "outputs": [],
   "source": [
    "dataset_name_all=dataset_name_all+dataset_simul_all"
   ]
  },
  {
   "cell_type": "code",
   "execution_count": null,
   "metadata": {},
   "outputs": [],
   "source": [
    "dataset_name_all"
   ]
  },
  {
   "cell_type": "code",
   "execution_count": null,
   "metadata": {},
   "outputs": [],
   "source": [
    "for dataset_name in dataset_name_all[:]:\n",
    "    print(dataset_name)\n",
    "    \n",
    "    path='datasets/extract/{}'.format(dataset_name)\n",
    "    path\n",
    "    \n",
    "    exp_data=mmread('{}.data.counts.mm'.format(path)).toarray().astype(float)\n",
    "    with open('{}.data.col'.format(path),'r') as f: exp_data_col=[i.strip().strip('\"') for i in f.read().split()]\n",
    "    with open('{}.data.row'.format(path),'r') as f: exp_data_row=[i.strip().strip('\"') for i in f.read().split()]\n",
    "    assert exp_data.shape==(len(exp_data_row),len(exp_data_col))\n",
    "    assert len(set(exp_data_row))==len(exp_data_row)\n",
    "    assert len(set(exp_data_col))==len(exp_data_col)        \n",
    "\n",
    "    exp_data_meta=pd.read_csv('{}.metadatacol.tsv'.format(path),sep='\\t')\n",
    "\n",
    "    cell_size_factor=pd.read_csv('{}.size_factor.tsv'.format(path),sep='\\t',header=None)[0].values.astype(float)#.reshape(-1,1)\n",
    "\n",
    "    x_data_intercept=np.array([np.ones(exp_data.shape[1])]).transpose()\n",
    "    x_data_null=np.concatenate([x_data_intercept],axis=1)\n",
    "\n",
    "    result_list,gamma_list_list,delta_log_list_list,beta_list_list=QQ.read_QQscore(path,[1,mode])\n",
    "\n",
    "    gamma_list=gamma_list_list[-1]    \n",
    "\n",
    "    gamma_argmax_list=QQ.gamma_list_exp_data_to_gamma_argmax_list(gamma_list,exp_data)#gamma_argmax_list=QQ.gamma_list_to_gamma_argmax_list(gamma_list)\n",
    "    gamma_argmax_list,gamma_argmax_list.shape    \n",
    "       \n",
    "    \n",
    " \n",
    "\n",
    "\n",
    "\n",
    "    \"\"\"\n",
    "\n",
    "\n",
    "    with open('datasets/extract/{}.data.col'.format(dataset_name),'r') as f: exp_data_col=[i.strip().strip('\"') for i in f.read().split()]\n",
    "    with open('datasets/extract/{}.data.row'.format(dataset_name),'r') as f: exp_data_row=[i.strip().strip('\"') for i in f.read().split()]\n",
    "    allscore=allscore_munge\n",
    "\n",
    "\n",
    "    crit1=allscore['QQdiff_rank'].copy()\n",
    "\n",
    "    #(allscore[['PCvariance_rank','votingscore_rank']].min(axis=1)<(97/100*len(exp_data_row)))\n",
    "    crit2=allscore['votingscore_rank'].copy()\n",
    "\n",
    "    #(allscore[['PCvariance_rank','votingscore_rank']].min(axis=1)<(97/100*len(exp_data_row)))\n",
    "\n",
    "    crit3=allscore['QQratio_rank'].copy()\n",
    "\n",
    "\n",
    "    crit4=allscore['mean_0_all_rank'].copy()\n",
    "\n",
    "    \n",
    "    crit5=allscore['PCstd2_rank'].copy()    \n",
    "    \n",
    "    \n",
    "    #(allscore[['votingscore_rank','PCvariance_rank']].min(axis=1)<(97/100*len(exp_data_row)))\n",
    "    MarcoPolo_score=pd.concat([crit1,crit2,crit3,crit4,crit5],axis=1).sum(axis=1)    \n",
    "    \n",
    "    MarcoPolo_score[~(\n",
    "            (allscore['minorsize']>int(10))&\n",
    "            (allscore['minorsize']<int(70/100*len(exp_data_col)))        \n",
    "            )]=len(allscore)  \n",
    "    \n",
    "\n",
    "\n",
    "    allscore['MarcoPolo']=MarcoPolo_score\n",
    "    allscore['MarcoPolo_rank']=pd.Series(np.arange(allscore.shape[0]),index=allscore['MarcoPolo'].sort_values(ascending=True).index).loc[allscore.index]\n",
    "\n",
    "    allscore_munge=allscore \n",
    "\n",
    "\n",
    "    allscore_munge['Symbol']=np.nan\n",
    "    allscore_munge['Gene ID']=exp_data_row\n",
    "\n",
    "    allscore_munge.to_csv('{}.MarcoPolo.{}.rank.munge.tsv'.format(path,mode),sep='\\t')\n",
    "    \n",
    "    \n",
    "\n",
    "\n",
    "\n",
    "\n",
    "\n",
    "    \"\"\"\n",
    "\n",
    "\n",
    "\n",
    "\n",
    "\n",
    "    \n",
    "    marker_matrix=pd.DataFrame(index=exp_data_row, columns=exp_data_meta['phenoid'].unique())\n",
    "\n",
    "    marker_matrix.head()   \n",
    "    \n",
    "    phenoid_count=np.array([np.sum((exp_data_meta['phenoid']==phenoid)) for phenoid in marker_matrix.columns])\n",
    "\n",
    "    for idx,row in marker_matrix.iterrows():\n",
    "        #print(exp_data_row.index(idx))\n",
    "        exp_data_select=exp_data[exp_data_row.index(idx),:]\n",
    "        gamma_argmax_select=gamma_argmax_list[exp_data_row.index(idx),:]\n",
    "        phenoid_on=np.array([np.sum(gamma_argmax_select[(exp_data_meta['phenoid']==phenoid).values]==0) for phenoid in row.index])\n",
    "\n",
    "        marker_matrix.loc[idx]=phenoid_on/phenoid_count    \n",
    "        \n",
    "    marker_matrix.to_csv('datasets/extract/{}.typefinding.MarcoPolo.tsv'.format(dataset_name),sep='\\t')"
   ]
  },
  {
   "cell_type": "code",
   "execution_count": null,
   "metadata": {},
   "outputs": [],
   "source": [
    "allscore_munge.set_index('Gene name').loc['MALAT1']#ENSG00000168542"
   ]
  },
  {
   "cell_type": "code",
   "execution_count": null,
   "metadata": {},
   "outputs": [],
   "source": [
    "allscore_munge.iloc[:,:20]"
   ]
  },
  {
   "cell_type": "code",
   "execution_count": null,
   "metadata": {},
   "outputs": [],
   "source": [
    "pd.concat([crit1,crit2,crit4,crit5],axis=1)."
   ]
  },
  {
   "cell_type": "code",
   "execution_count": null,
   "metadata": {},
   "outputs": [],
   "source": [
    "ENSG00000280623"
   ]
  },
  {
   "cell_type": "code",
   "execution_count": null,
   "metadata": {},
   "outputs": [],
   "source": [
    "allscore_munge.set_index('Gene ID').loc['ENSG00000168542']#ENSG00000168542"
   ]
  },
  {
   "cell_type": "code",
   "execution_count": null,
   "metadata": {},
   "outputs": [],
   "source": [
    "allscore_munge.set_index('Gene ID').loc['ENSG00000280623']"
   ]
  },
  {
   "cell_type": "code",
   "execution_count": null,
   "metadata": {},
   "outputs": [],
   "source": [
    "ENSG00000019485"
   ]
  },
  {
   "cell_type": "code",
   "execution_count": null,
   "metadata": {},
   "outputs": [],
   "source": [
    "allscore_munge.sort_values('PCstd2_rank').iloc[:50]"
   ]
  },
  {
   "cell_type": "code",
   "execution_count": null,
   "metadata": {},
   "outputs": [],
   "source": [
    "allscore_munge.sort_values('MarcoPolo_rank').iloc[:50]"
   ]
  },
  {
   "cell_type": "code",
   "execution_count": null,
   "metadata": {},
   "outputs": [],
   "source": [
    "allscore_munge.iloc[exp_data_row.index('ENSG00000186272')]"
   ]
  },
  {
   "cell_type": "code",
   "execution_count": null,
   "metadata": {},
   "outputs": [],
   "source": [
    "allscore_munge.iloc[exp_data_row.index('ENSG00000071282')]"
   ]
  },
  {
   "cell_type": "code",
   "execution_count": null,
   "metadata": {},
   "outputs": [],
   "source": [
    "pd.set_option(\"display.max_columns\", 100)"
   ]
  },
  {
   "cell_type": "code",
   "execution_count": null,
   "metadata": {},
   "outputs": [],
   "source": [
    "allscore_munge.sort_values(\"MarcoPolo_rank\")"
   ]
  },
  {
   "cell_type": "code",
   "execution_count": null,
   "metadata": {
    "scrolled": true
   },
   "outputs": [],
   "source": []
  },
  {
   "cell_type": "code",
   "execution_count": null,
   "metadata": {},
   "outputs": [],
   "source": [
    "gamma_argmax_list"
   ]
  },
  {
   "cell_type": "code",
   "execution_count": null,
   "metadata": {},
   "outputs": [],
   "source": []
  },
  {
   "cell_type": "code",
   "execution_count": null,
   "metadata": {},
   "outputs": [],
   "source": []
  },
  {
   "cell_type": "code",
   "execution_count": null,
   "metadata": {},
   "outputs": [],
   "source": [
    "for dataset_name in dataset_name_all:\n",
    "    print(dataset_name)\n",
    "    path='datasets/extract/{}'.format(dataset_name)\n",
    "    path\n",
    "    \n",
    "    exp_data=mmread('{}.data.counts.mm'.format(path)).toarray().astype(float)\n",
    "    with open('{}.data.col'.format(path),'r') as f: exp_data_col=[i.strip().strip('\"') for i in f.read().split()]\n",
    "    with open('{}.data.row'.format(path),'r') as f: exp_data_row=[i.strip().strip('\"') for i in f.read().split()]\n",
    "    assert exp_data.shape==(len(exp_data_row),len(exp_data_col))\n",
    "    assert len(set(exp_data_row))==len(exp_data_row)\n",
    "    assert len(set(exp_data_col))==len(exp_data_col)        \n",
    "\n",
    "    exp_data_meta=pd.read_csv('{}.metadatacol.tsv'.format(path),sep='\\t')\n",
    "\n",
    "    cell_size_factor=pd.read_csv('{}.size_factor.tsv'.format(path),sep='\\t',header=None)[0].values.astype(float)#.reshape(-1,1)\n",
    "\n",
    "    x_data_intercept=np.array([np.ones(exp_data.shape[1])]).transpose()\n",
    "    x_data_null=np.concatenate([x_data_intercept],axis=1)\n",
    "\n",
    "    #gamma_argmax_list=(exp_data<=1).astype(int)\n",
    "    #(exp_data<=1).astype(int)\n",
    "    gamma_argmax_list=(exp_data<=np.median(exp_data,axis=1).reshape(-1,1)).astype(int)\n",
    "\n",
    "    #gamma_list=gamma_list_list[-1]    \n",
    "\n",
    "    #gamma_argmax_list=QQ.gamma_list_exp_data_to_gamma_argmax_list(gamma_list,exp_data)#gamma_argmax_list=QQ.gamma_list_to_gamma_argmax_list(gamma_list)\n",
    "    #gamma_argmax_list,gamma_argmax_list.shape    \n",
    "       \n",
    "    \n",
    "    \n",
    "    \n",
    "    #allscore=pd.read_csv('{}.MarcoPolo.{}.rank.tsv'.format(path,mode),index_col=0,sep='\\t')\n",
    "    allscore=pd.read_csv('datasets/extract/{}.hvg.ht.pca.tsv'.format(dataset_name),sep='\\t',index_col=0)\n",
    "    allscore_munge=allscore.copy()\n",
    " \n",
    "    \n",
    "    marker_matrix=pd.DataFrame(index=exp_data_row, columns=exp_data_meta['phenoid'].unique())\n",
    "\n",
    "    marker_matrix.head()   \n",
    "    \n",
    "    phenoid_count=np.array([np.sum((exp_data_meta['phenoid']==phenoid)) for phenoid in marker_matrix.columns])\n",
    "\n",
    "    for idx,row in marker_matrix.iterrows():\n",
    "        exp_data_select=exp_data[exp_data_row.index(idx),:]\n",
    "        gamma_argmax_select=gamma_argmax_list[exp_data_row.index(idx),:]\n",
    "        phenoid_on=np.array([np.sum(gamma_argmax_select[(exp_data_meta['phenoid']==phenoid).values]==0) for phenoid in row.index])\n",
    "\n",
    "        marker_matrix.loc[idx]=phenoid_on/phenoid_count    \n",
    "        \n",
    "    marker_matrix.to_csv('datasets/extract/{}.typefinding.ht.pca.tsv'.format(dataset_name),sep='\\t')\n",
    "    "
   ]
  },
  {
   "cell_type": "code",
   "execution_count": null,
   "metadata": {},
   "outputs": [],
   "source": []
  },
  {
   "cell_type": "code",
   "execution_count": null,
   "metadata": {},
   "outputs": [],
   "source": [
    "gamma_argmax_list.shape"
   ]
  },
  {
   "cell_type": "code",
   "execution_count": null,
   "metadata": {},
   "outputs": [],
   "source": [
    "len(exp_data_row)"
   ]
  },
  {
   "cell_type": "code",
   "execution_count": null,
   "metadata": {},
   "outputs": [],
   "source": []
  }
 ],
 "metadata": {
  "kernelspec": {
   "display_name": "MarcoPolo",
   "language": "python",
   "name": "marcopolo"
  },
  "language_info": {
   "codemirror_mode": {
    "name": "ipython",
    "version": 3
   },
   "file_extension": ".py",
   "mimetype": "text/x-python",
   "name": "python",
   "nbconvert_exporter": "python",
   "pygments_lexer": "ipython3",
   "version": "3.7.9"
  }
 },
 "nbformat": 4,
 "nbformat_minor": 4
}
