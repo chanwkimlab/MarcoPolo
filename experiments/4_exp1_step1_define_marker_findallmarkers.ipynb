{
 "cells": [
  {
   "cell_type": "code",
   "execution_count": null,
   "metadata": {
    "scrolled": true
   },
   "outputs": [],
   "source": [
    "getwd()\n",
    "setwd('..')\n",
    "getwd()"
   ]
  },
  {
   "cell_type": "code",
   "execution_count": null,
   "metadata": {
    "scrolled": true
   },
   "outputs": [],
   "source": [
    "library(Matrix)\n",
    "library(Seurat)\n",
    "library(mclust)\n",
    "library(SingleCellExperiment)\n",
    "library(stringr)\n",
    "#library(clustree)\n",
    "#citation(\"mclust\")\n"
   ]
  },
  {
   "cell_type": "code",
   "execution_count": null,
   "metadata": {},
   "outputs": [],
   "source": [
    "#cc.genes$s.genes"
   ]
  },
  {
   "cell_type": "code",
   "execution_count": null,
   "metadata": {},
   "outputs": [],
   "source": [
    "#cc.genes$g2m.genes"
   ]
  },
  {
   "cell_type": "code",
   "execution_count": null,
   "metadata": {},
   "outputs": [],
   "source": [
    "#cc.genes"
   ]
  },
  {
   "cell_type": "code",
   "execution_count": null,
   "metadata": {},
   "outputs": [],
   "source": [
    "read_in_data <-function(save_name){\n",
    "    exp_data=readMM(sprintf(\"datasets/extract/%s.data.counts.mm\",save_name))\n",
    " \n",
    "    exp_data_row=read.table(sprintf('datasets/extract/%s.data.row',save_name))$V1\n",
    "    exp_data_col=read.table(sprintf('datasets/extract/%s.data.col',save_name))$V1    \n",
    "    rownames(exp_data)=exp_data_row\n",
    "    colnames(exp_data)=exp_data_col    \n",
    "\n",
    "    metadatarow=read.table(sprintf('datasets/extract/%s.metadatarow.tsv',save_name),sep='\\t')\n",
    "    metadatacol=read.table(sprintf('datasets/extract/%s.metadatacol.tsv',save_name),sep='\\t')  \n",
    "    \n",
    "    metadatacol['size_factor']=read.table(sprintf('datasets/extract/%s.size_factor.tsv',save_name),sep='\\t')$V1\n",
    "\n",
    "    sce <- SingleCellExperiment(list(counts=as.matrix(exp_data)),rowData=metadatarow,colData=metadatacol)\n",
    "    sce\n",
    "}  \n",
    "\n",
    "calculate_low_dim <-function(sce, pca_dim=10){\n",
    "    counts = assay(sce, \"counts\")\n",
    "    seurat <- CreateSeuratObject(counts = counts, project = \"scRNAseq\", assay = \"RNA\",\n",
    "                                         min.cells = 0, min.features = 0)\n",
    "    \n",
    "    seurat <- NormalizeData(seurat); seurat <- ScaleData(seurat,features = rownames(seurat)); seurat <- FindVariableFeatures(seurat, selection.method = \"vst\", nfeatures = 2000)\n",
    "    seurat <- RunPCA(seurat, features = VariableFeatures(object = seurat)); seurat <- RunTSNE(seurat, dims= 1:pca_dim)\n",
    "    reducedDims(sce) <- list(PCA=Embeddings(seurat, reduction = \"pca\")[,1:pca_dim], TSNE=Embeddings(seurat, reduction = \"tsne\"))\n",
    "    sce\n",
    "}"
   ]
  },
  {
   "cell_type": "code",
   "execution_count": null,
   "metadata": {},
   "outputs": [],
   "source": [
    "save_deg<-function(sce,save_name,method){\n",
    "    \n",
    "    seurat_object <- CreateSeuratObject(counts = counts(sce), project = \"scRNAseq\", assay = \"RNA\",\n",
    "                                         min.cells = 0, min.features = 0,\n",
    "                                         meta.data = as.data.frame(colData(sce)))\n",
    "    \n",
    "    Idents(seurat_object)=colData(sce)$phenoid\n",
    "    \n",
    "    marker_found=FindAllMarkers(seurat_object, test.use=method, logfc.threshold = 0.25, min.pct = 0.1)\n",
    "    \n",
    "    write.table(marker_found,file=sprintf('datasets/extract/%s.deg.%s.tsv',save_name,method),sep='\\t')\n",
    "}"
   ]
  },
  {
   "cell_type": "code",
   "execution_count": null,
   "metadata": {},
   "outputs": [],
   "source": [
    "dataset_name_original_all=list(\n",
    "'Kohinbulk_filtered',\n",
    "'HumanLiver_filtered',\n",
    "'Zhengmix8eq_filtered')\n",
    "\n",
    "length(dataset_name_original_all)"
   ]
  },
  {
   "cell_type": "code",
   "execution_count": null,
   "metadata": {},
   "outputs": [],
   "source": [
    "dataset_name_tabula_all=list(\"TabulaAorta_filtered\",\n",
    "\"TabulaBladder_filtered\",\n",
    "\"TabulaBrainMyeloid_filtered\",\n",
    "\"TabulaBrainNonMyeloid_filtered\",\n",
    "\"TabulaDiaphragm_filtered\",\n",
    "\"TabulaFat_filtered\",\n",
    "\"TabulaHeart_filtered\",\n",
    "\"TabulaKidney_filtered\",\n",
    "\"TabulaLargeIntestine_filtered\",\n",
    "\"TabulaLimbMuscle_filtered\",\n",
    "\"TabulaLiver_filtered\",\n",
    "\"TabulaLung_filtered\",\n",
    "\"TabulaMammaryGland_filtered\",\n",
    "\"TabulaMarrow_filtered\",\n",
    "\"TabulaPancreas_filtered\",\n",
    "\"TabulaSkin_filtered\",\n",
    "\"TabulaSpleen_filtered\",\n",
    "\"TabulaThymus_filtered\",\n",
    "\"TabulaTongue_filtered\",\n",
    "\"TabulaTrachea_filtered\")"
   ]
  },
  {
   "cell_type": "code",
   "execution_count": null,
   "metadata": {},
   "outputs": [],
   "source": [
    "dataset_name_simul_all=list()\n",
    "for (ncells_total in c('1000','2000','5000','10000')){\n",
    "    for (prop in c('1e-2','5e-3','1e-3','5e-4')){\n",
    "        for(i in c(1:10)){\n",
    "            dataset_name<-sprintf('Simul_%s_%s_%s_filtered',ncells_total,prop,i)\n",
    "            dataset_name_simul_all<-append(dataset_name_simul_all,dataset_name)\n",
    "        }\n",
    "\n",
    "    }\n",
    "}"
   ]
  },
  {
   "cell_type": "code",
   "execution_count": null,
   "metadata": {},
   "outputs": [],
   "source": [
    "dataset_name_all=append(dataset_name_original_all,dataset_name_tabula_all)\n",
    "length(dataset_name_all)"
   ]
  },
  {
   "cell_type": "code",
   "execution_count": null,
   "metadata": {},
   "outputs": [],
   "source": [
    "for(method in c(\"wilcox\", \"bimod\", \"roc\", \"t\")){\n",
    "    for(dataset_name in dataset_name_all[1:3]){\n",
    "        start_time=as.numeric(Sys.time())\n",
    "\n",
    "        sce=read_in_data(dataset_name);seurat=as.Seurat(sce, data=NULL)\n",
    "        #seurat_hvg=ScaleData(seurat_hvg,features = all.genes)\n",
    "\n",
    "        #seurat_hvg <- FindVariableFeatures(seurat_hvg, selection.method = \"vst\", nfeatures = 2000)\n",
    "\n",
    "        #seurat_hvg_pca <- RunPCA(seurat_hvg, features = VariableFeatures(object = seurat_hvg))    \n",
    "        Idents(seurat)=seurat@meta.data['phenoid']\n",
    "\n",
    "\n",
    "        marker_found=FindAllMarkers(seurat, test.use=method, logfc.threshold = 0.25, min.pct = 0.1)\n",
    "        write.table(marker_found,file=sprintf('datasets/extract/%s.realdeg.%s.tsv',dataset_name,method),sep='\\t')    \n",
    "        \n",
    "        rm(list=c('seurat'))\n",
    "        \n",
    "    }    \n",
    "}"
   ]
  },
  {
   "cell_type": "code",
   "execution_count": null,
   "metadata": {},
   "outputs": [],
   "source": []
  },
  {
   "cell_type": "code",
   "execution_count": null,
   "metadata": {},
   "outputs": [],
   "source": []
  },
  {
   "cell_type": "code",
   "execution_count": null,
   "metadata": {},
   "outputs": [],
   "source": []
  },
  {
   "cell_type": "code",
   "execution_count": null,
   "metadata": {},
   "outputs": [],
   "source": []
  },
  {
   "cell_type": "code",
   "execution_count": null,
   "metadata": {},
   "outputs": [],
   "source": []
  },
  {
   "cell_type": "code",
   "execution_count": null,
   "metadata": {
    "scrolled": true
   },
   "outputs": [],
   "source": [
    "for(dataset_name in dataset_name_all[1:length(dataset_name_all)]){\n",
    "    for (res in c(0.5,1.0,1.5)){\n",
    "        print(dataset_name)\n",
    "        print(res)\n",
    "        \n",
    "        start_time=as.numeric(Sys.time())\n",
    "        res_str=str_replace(sprintf('%.1f',res),fixed('.'),'_')\n",
    "\n",
    "        seurat=read_in_data(dataset_name)\n",
    "        \n",
    "        seurat_=calculate_low_dim(seurat, pca_dim=10)\n",
    "    \n",
    "        seurat=as.Seurat(seurat, data=NULL)\n",
    "        seurat[['pca']] <- CreateDimReducObject(embeddings = reducedDim(seurat_), assay='RNA')\n",
    "        seurat <- FindNeighbors(seurat, dims = 1:10)\n",
    "        seurat <- FindClusters(seurat, resolution = res)   \n",
    "\n",
    "        write.table(seurat@meta.data['seurat_clusters'],\n",
    "                    sprintf('datasets/extract/%s.clustering.%s.label.tsv',dataset_name,res_str),sep='\\t')\n",
    "        \n",
    "        end_time=as.numeric(Sys.time())\n",
    "        \n",
    "        time_preprocessing=end_time-start_time\n",
    "        \n",
    "        Idents(seurat)=seurat@meta.data['seurat_clusters']\n",
    "        \n",
    "        start_time=as.numeric(Sys.time())\n",
    "        markers <- FindAllMarkers(seurat, test.use=\"wilcox\")#, only.pos = TRUE, min.pct = 0.1, logfc.threshold = 0.25)\n",
    "        write.table(markers,\n",
    "                    sprintf('datasets/extract/%s.clustering.%s.deg.tsv',dataset_name,res_str),sep='\\t')    \n",
    "        end_time=as.numeric(Sys.time())\n",
    "        time_deg=end_time-start_time\n",
    "        \n",
    "        write.table(time_preprocessing+time_deg,\n",
    "                    file=sprintf('datasets/extract/%s.clustering.%s.deg.runtime.tsv',dataset_name,res_str),\n",
    "                    sep='\\t',\n",
    "                    row.names=FALSE, \n",
    "                    col.names=FALSE)          \n",
    "        \n",
    "        start_time=as.numeric(Sys.time())\n",
    "        markers_all <- FindAllMarkers(seurat, test.use=\"wilcox\",logfc.threshold =0)#, only.pos = TRUE, min.pct = 0.1, logfc.threshold = 0.25)\n",
    "        write.table(markers_all,\n",
    "                    sprintf('datasets/extract/%s.clustering.%s.deg.all.tsv',dataset_name,res_str),sep='\\t')  \n",
    "        end_time=as.numeric(Sys.time())\n",
    "        time_deg_all=end_time-start_time\n",
    "        \n",
    "        write.table(time_preprocessing+time_deg_all,\n",
    "                    file=sprintf('datasets/extract/%s.clustering.%s.deg_all.runtime.tsv',dataset_name,res_str),\n",
    "                    sep='\\t',\n",
    "                    row.names=FALSE, \n",
    "                    col.names=FALSE)\n",
    "        \n",
    "        \n",
    "\n",
    "    }\n",
    "    write.table(Embeddings(seurat[['tsne']]),\n",
    "                file=sprintf('datasets/extract/%s.tsne.vst.2000.tsv',dataset_name),\n",
    "                sep='\\t',\n",
    "                row.names=TRUE,\n",
    "                col.names=TRUE\n",
    "               )     \n",
    "    \n",
    "}"
   ]
  },
  {
   "cell_type": "markdown",
   "metadata": {},
   "source": [
    "# DEG specific"
   ]
  },
  {
   "cell_type": "markdown",
   "metadata": {},
   "source": [
    "# Koh"
   ]
  },
  {
   "cell_type": "code",
   "execution_count": null,
   "metadata": {},
   "outputs": [],
   "source": [
    "lfc_thres=0.25"
   ]
  },
  {
   "cell_type": "code",
   "execution_count": null,
   "metadata": {},
   "outputs": [],
   "source": [
    "res=1.0"
   ]
  },
  {
   "cell_type": "code",
   "execution_count": null,
   "metadata": {
    "scrolled": true
   },
   "outputs": [],
   "source": [
    "dataset_name='Kohinbulk_filtered'\n",
    "\n",
    "sce=read_in_data(dataset_name);seurat=as.Seurat(sce, data=NULL)\n",
    "\n",
    "seurat_hvg <- NormalizeData(seurat)\n",
    "\n",
    "all.genes <- rownames(seurat_hvg)\n",
    "seurat_hvg=ScaleData(seurat_hvg,features = all.genes)\n",
    "\n",
    "seurat_hvg <- FindVariableFeatures(seurat_hvg, selection.method = \"vst\", nfeatures = 2000)\n",
    "\n",
    "seurat_hvg_pca <- RunPCA(seurat_hvg, features = VariableFeatures(object = seurat_hvg))\n",
    "\n",
    "\n",
    "seurat_hvg_pca_label <- FindNeighbors(seurat_hvg_pca, dims = 1:10)\n",
    "seurat_hvg_pca_label_cluster <- FindClusters(seurat_hvg_pca_label, resolution = res)\n",
    "seurat_hvg_pca_label_cluster_tsne <- RunTSNE(seurat_hvg_pca_label_cluster, dims= 1:10)    \n",
    "\n",
    "DimPlot(seurat_hvg_pca_label_cluster_tsne, group.by='phenoid', reduction = \"tsne\")   \n",
    "\n",
    "DimPlot(seurat_hvg_pca_label_cluster_tsne, group.by='seurat_clusters', reduction = \"tsne\")  \n",
    "\n",
    "markers=FindMarkers(seurat_hvg_pca_label_cluster, ident.1='APS',ident.2='MPS',group.by='phenoid',logfc.threshold=lfc_thres)    \n",
    "\n",
    "write.table(markers,\n",
    "            sprintf('datasets/extract/%s.truelabel.deg.APS.MPS.tsv',dataset_name),sep='\\t')    \n",
    "\n",
    "\n",
    "markers=FindMarkers(seurat_hvg_pca_label_cluster, ident.1='MPS',ident.2='APS',group.by='phenoid',logfc.threshold=lfc_thres)    \n",
    "\n",
    "write.table(markers,\n",
    "            sprintf('datasets/extract/%s.truelabel.deg.MPS.APS.tsv',dataset_name),sep='\\t') \n",
    "\n",
    "markers=FindMarkers(seurat_hvg_pca_label_cluster, ident.1='APS',group.by='phenoid',logfc.threshold=lfc_thres)  \n",
    "\n",
    "write.table(markers,\n",
    "            sprintf('datasets/extract/%s.truelabel.deg.APS.tsv',dataset_name),sep='\\t')\n",
    "\n",
    "markers=FindMarkers(seurat_hvg_pca_label_cluster, ident.1='MPS',group.by='phenoid',logfc.threshold=lfc_thres)  \n",
    "\n",
    "write.table(markers,\n",
    "            sprintf('datasets/extract/%s.truelabel.deg.MPS.tsv',dataset_name),sep='\\t')"
   ]
  },
  {
   "cell_type": "code",
   "execution_count": null,
   "metadata": {},
   "outputs": [],
   "source": [
    "FeaturePlot(seurat_hvg_pca_label_cluster_tsne,features=c('ENSG00000156574'))"
   ]
  },
  {
   "cell_type": "markdown",
   "metadata": {},
   "source": [
    "# Lung"
   ]
  },
  {
   "cell_type": "code",
   "execution_count": null,
   "metadata": {},
   "outputs": [],
   "source": [
    "dataset_name='TabulaLung_filtered'\n",
    "\n",
    "sce=read_in_data(dataset_name);seurat=as.Seurat(sce, data=NULL)\n",
    "\n",
    "seurat_hvg <- NormalizeData(seurat)\n",
    "\n",
    "all.genes <- rownames(seurat_hvg)\n",
    "seurat_hvg=ScaleData(seurat_hvg,features = all.genes)\n",
    "\n",
    "seurat_hvg <- FindVariableFeatures(seurat_hvg, selection.method = \"vst\", nfeatures = 2000)\n",
    "\n",
    "seurat_hvg_pca <- RunPCA(seurat_hvg, features = VariableFeatures(object = seurat_hvg))\n",
    "\n",
    "\n",
    "seurat_hvg_pca_label <- FindNeighbors(seurat_hvg_pca, dims = 1:10)\n",
    "seurat_hvg_pca_label_cluster <- FindClusters(seurat_hvg_pca_label, resolution = res)\n",
    "seurat_hvg_pca_label_cluster_tsne <- RunTSNE(seurat_hvg_pca_label_cluster, dims= 1:10)    \n",
    "\n",
    "DimPlot(seurat_hvg_pca_label_cluster_tsne, group.by='phenoid', reduction = \"tsne\")   \n",
    "\n",
    "DimPlot(seurat_hvg_pca_label_cluster_tsne, group.by='seurat_clusters', reduction = \"tsne\")  \n",
    "\n",
    "markers=FindMarkers(seurat_hvg_pca_label_cluster, ident.1='T cell',ident.2='natural killer cell',group.by='phenoid',logfc.threshold=lfc_thres)     \n",
    "\n",
    "write.table(markers,\n",
    "            sprintf('datasets/extract/%s.truelabel.deg.T_cell.natural_killer_cell.tsv',dataset_name),sep='\\t')\n",
    "\n",
    "markers=FindMarkers(seurat_hvg_pca_label_cluster, ident.1='natural killer cell',ident.2='T cell',group.by='phenoid',logfc.threshold=lfc_thres)  \n",
    "\n",
    "write.table(markers,\n",
    "            sprintf('datasets/extract/%s.truelabel.deg.natural_killer_cell.T_cell.tsv',dataset_name),sep='\\t') \n",
    "\n",
    "markers=FindMarkers(seurat_hvg_pca_label_cluster, ident.1='natural killer cell',group.by='phenoid',logfc.threshold=lfc_thres)  \n",
    "\n",
    "write.table(markers,\n",
    "            sprintf('datasets/extract/%s.truelabel.deg.natural_killer_cell.tsv',dataset_name),sep='\\t') \n",
    "\n",
    "markers=FindMarkers(seurat_hvg_pca_label_cluster, ident.1='T cell',group.by='phenoid',logfc.threshold=lfc_thres)  \n",
    "\n",
    "write.table(markers,\n",
    "            sprintf('datasets/extract/%s.truelabel.deg.T_cell.tsv',dataset_name),sep='\\t') "
   ]
  },
  {
   "cell_type": "markdown",
   "metadata": {},
   "source": [
    "# Liver"
   ]
  },
  {
   "cell_type": "code",
   "execution_count": null,
   "metadata": {},
   "outputs": [],
   "source": [
    "dataset_name='HumanLiver_filtered'\n",
    "\n",
    "sce=read_in_data(dataset_name);seurat=as.Seurat(sce, data=NULL)\n",
    "\n",
    "seurat_hvg <- NormalizeData(seurat)\n",
    "\n",
    "all.genes <- rownames(seurat_hvg)\n",
    "seurat_hvg=ScaleData(seurat_hvg,features = all.genes)\n",
    "\n",
    "seurat_hvg <- FindVariableFeatures(seurat_hvg, selection.method = \"vst\", nfeatures = 2000)\n",
    "\n",
    "seurat_hvg_pca <- RunPCA(seurat_hvg, features = VariableFeatures(object = seurat_hvg))\n",
    "\n",
    "\n",
    "seurat_hvg_pca_label <- FindNeighbors(seurat_hvg_pca, dims = 1:10)\n",
    "seurat_hvg_pca_label_cluster <- FindClusters(seurat_hvg_pca_label, resolution = res)\n",
    "seurat_hvg_pca_label_cluster_tsne <- RunTSNE(seurat_hvg_pca_label_cluster, dims= 1:10)    \n",
    "\n",
    "DimPlot(seurat_hvg_pca_label_cluster_tsne, group.by='phenoid', reduction = \"tsne\")   \n",
    "\n",
    "DimPlot(seurat_hvg_pca_label_cluster_tsne, group.by='seurat_clusters', reduction = \"tsne\")  \n",
    "\n",
    "markers=FindMarkers(seurat_hvg_pca_label_cluster, ident.1='gd T cells',ident.2='ab T cells',group.by='phenoid',logfc.threshold=lfc_thres)    \n",
    "\n",
    "write.table(markers,\n",
    "            sprintf('datasets/extract/%s.truelabel.deg.gd_T_cells.ab_T_cells.tsv',dataset_name),sep='\\t')    \n",
    "\n",
    "markers=FindMarkers(seurat_hvg_pca_label_cluster, ident.1='gd T cells',ident.2='NK cells',group.by='phenoid',logfc.threshold=lfc_thres)    \n",
    "\n",
    "write.table(markers,\n",
    "            sprintf('datasets/extract/%s.truelabel.deg.gd_T_cells.NK_cells.tsv',dataset_name),sep='\\t') \n",
    "\n",
    "markers=FindMarkers(seurat_hvg_pca_label_cluster, ident.1='gd T cells',group.by='phenoid',logfc.threshold=lfc_thres)  \n",
    "\n",
    "write.table(markers,\n",
    "            sprintf('datasets/extract/%s.truelabel.deg.gd_T_cells.tsv',dataset_name),sep='\\t') \n",
    "\n",
    "markers=FindMarkers(seurat_hvg_pca_label_cluster, ident.1='NK cells',group.by='phenoid',logfc.threshold=0)  \n",
    "\n",
    "write.table(markers,\n",
    "            sprintf('datasets/extract/%s.truelabel.deg.NK_cells.tsv',dataset_name),sep='\\t') "
   ]
  },
  {
   "cell_type": "code",
   "execution_count": null,
   "metadata": {},
   "outputs": [],
   "source": [
    "FeaturePlot(seurat_hvg_pca_label_cluster_tsne,features=c('GNLY'))"
   ]
  },
  {
   "cell_type": "code",
   "execution_count": null,
   "metadata": {},
   "outputs": [],
   "source": []
  },
  {
   "cell_type": "code",
   "execution_count": null,
   "metadata": {},
   "outputs": [],
   "source": []
  },
  {
   "cell_type": "code",
   "execution_count": null,
   "metadata": {},
   "outputs": [],
   "source": []
  },
  {
   "cell_type": "code",
   "execution_count": null,
   "metadata": {},
   "outputs": [],
   "source": [
    "'datasets/extract/%s.clustering.%s.deg.tsv',dataset_name,res_str),sep='\\t')    "
   ]
  },
  {
   "cell_type": "code",
   "execution_count": null,
   "metadata": {},
   "outputs": [],
   "source": [
    "markers <- FindAllMarkers(seurat_hvg_pca_label_cluster, test.use=\"wilcox\")#, only.pos = TRUE, min.pct = 0.1, logfc.threshold = 0.25)\n",
    "write.table(markers,\n",
    "            sprintf('datasets/extract/%s.truelabel.deg.tsv',dataset_name,res_str),sep='\\t')    "
   ]
  },
  {
   "cell_type": "code",
   "execution_count": null,
   "metadata": {},
   "outputs": [],
   "source": [
    "write.table(markers,\n",
    "            sprintf('datasets/extract/%s.clustering.%s.deg.tsv',dataset_name,res_str),sep='\\t')    "
   ]
  },
  {
   "cell_type": "code",
   "execution_count": null,
   "metadata": {},
   "outputs": [],
   "source": [
    "FindAllMarkers(seurat_hvg_pca_label_cluster, test.use=\"wilcox\")"
   ]
  },
  {
   "cell_type": "code",
   "execution_count": null,
   "metadata": {},
   "outputs": [],
   "source": [
    "head(FindMarkers(seurat_hvg_pca_label_cluster, ident.1='MPS',ident.2='APS',group.by='phenoid'))"
   ]
  },
  {
   "cell_type": "code",
   "execution_count": null,
   "metadata": {},
   "outputs": [],
   "source": [
    "help(FeaturePlot)"
   ]
  },
  {
   "cell_type": "code",
   "execution_count": null,
   "metadata": {},
   "outputs": [],
   "source": [
    "help(FindMarkers)"
   ]
  },
  {
   "cell_type": "code",
   "execution_count": null,
   "metadata": {},
   "outputs": [],
   "source": [
    "FeaturePlot(seurat_hvg_pca_label_cluster_tsne,features='ENSG00000125691')"
   ]
  },
  {
   "cell_type": "code",
   "execution_count": null,
   "metadata": {},
   "outputs": [],
   "source": [
    "slotNames(seurat_hvg_pca_label_cluster[['RNA']])"
   ]
  },
  {
   "cell_type": "code",
   "execution_count": null,
   "metadata": {},
   "outputs": [],
   "source": [
    "FindMarkers(seurat_hvg_pca_label_cluster, logfc.threshold=1, ident.1='APS',ident.2='MPS',group.by='phenoid')"
   ]
  },
  {
   "cell_type": "code",
   "execution_count": null,
   "metadata": {},
   "outputs": [],
   "source": [
    "help(FindMarkers)"
   ]
  },
  {
   "cell_type": "code",
   "execution_count": null,
   "metadata": {},
   "outputs": [],
   "source": [
    "FindMarkers(seurat_hvg_pca_label_cluster, test.use='LR',logfc.threshold=1, ident.1='APS',ident.2='MPS',group.by='phenoid')"
   ]
  },
  {
   "cell_type": "code",
   "execution_count": null,
   "metadata": {},
   "outputs": [],
   "source": []
  },
  {
   "cell_type": "code",
   "execution_count": null,
   "metadata": {},
   "outputs": [],
   "source": [
    "help(FindMarkers)"
   ]
  },
  {
   "cell_type": "code",
   "execution_count": null,
   "metadata": {},
   "outputs": [],
   "source": [
    "DimPlot(seurat_hvg_pca_label_cluster_tsne, group.by='seurat_clusters', reduction = \"tsne\")    \n",
    "DimPlot(seurat_hvg_pca_label_cluster_tsne, group.by='phenoid', reduction = \"tsne\")    "
   ]
  },
  {
   "cell_type": "code",
   "execution_count": null,
   "metadata": {},
   "outputs": [],
   "source": []
  },
  {
   "cell_type": "code",
   "execution_count": null,
   "metadata": {},
   "outputs": [],
   "source": []
  },
  {
   "cell_type": "code",
   "execution_count": null,
   "metadata": {},
   "outputs": [],
   "source": [
    "help(str_replace)"
   ]
  },
  {
   "cell_type": "code",
   "execution_count": null,
   "metadata": {},
   "outputs": [],
   "source": [
    "Idents(seurat_hvg_pca_label_cluster)=seurat_hvg_pca_label_cluster@meta.data['seurat_clusters']\n",
    "markers <- FindAllMarkers(seurat_hvg_pca_label_cluster, test.use=\"wilcox\")#, only.pos = TRUE, min.pct = 0.1, logfc.threshold = 0.25)\n",
    "#\n",
    "#write.table(markers,sprintf('datasets/extract/%s.clusteringdeg.%s.tsv',save_name,'0_5'),sep='\\t')"
   ]
  },
  {
   "cell_type": "code",
   "execution_count": null,
   "metadata": {},
   "outputs": [],
   "source": [
    "markers"
   ]
  },
  {
   "cell_type": "code",
   "execution_count": null,
   "metadata": {},
   "outputs": [],
   "source": [
    "help(FindAllMarkers)"
   ]
  },
  {
   "cell_type": "code",
   "execution_count": null,
   "metadata": {},
   "outputs": [],
   "source": [
    "seurat_hvg_pca_label <- FindNeighbors(seurat_hvg_pca, dims = 1:10)\n",
    "seurat_hvg_pca_label_cluster <- FindClusters(seurat_hvg_pca_label, resolution = 0.5)\n",
    "seurat_hvg_pca_label_cluster_tsne <- RunTSNE(seurat_hvg_pca_label_cluster, dims= 1:10)"
   ]
  },
  {
   "cell_type": "code",
   "execution_count": null,
   "metadata": {
    "scrolled": true
   },
   "outputs": [],
   "source": [
    "DimPlot(seurat_hvg_pca_label_cluster_tsne, group.by='phenoid', reduction = \"tsne\")"
   ]
  },
  {
   "cell_type": "code",
   "execution_count": null,
   "metadata": {},
   "outputs": [],
   "source": [
    "DimPlot(seurat_hvg_pca_label_cluster_tsne, group.by='seurat_clusters', reduction = \"tsne\")"
   ]
  },
  {
   "cell_type": "code",
   "execution_count": null,
   "metadata": {},
   "outputs": [],
   "source": [
    "#FeaturePlot(seurat_hvg_pca_label_cluster_tsne,'MKI67')"
   ]
  },
  {
   "cell_type": "code",
   "execution_count": null,
   "metadata": {},
   "outputs": [],
   "source": [
    "write.table(seurat_hvg_pca_label_cluster_tsne@meta.data['seurat_clusters'],sprintf('datasets/extract/%s.clusterlabel.%s.tsv',save_name,'0_5'),sep='\\t')\n"
   ]
  },
  {
   "cell_type": "code",
   "execution_count": null,
   "metadata": {},
   "outputs": [],
   "source": []
  },
  {
   "cell_type": "code",
   "execution_count": null,
   "metadata": {},
   "outputs": [],
   "source": []
  },
  {
   "cell_type": "code",
   "execution_count": null,
   "metadata": {},
   "outputs": [],
   "source": [
    "seurat_hvg_pca_label <- FindNeighbors(seurat_hvg_pca, dims = 1:10)\n",
    "seurat_hvg_pca_label_cluster <- FindClusters(seurat_hvg_pca_label, resolution = 1.0)\n",
    "seurat_hvg_pca_label_cluster_tsne <- RunTSNE(seurat_hvg_pca_label_cluster, dims= 1:10)"
   ]
  },
  {
   "cell_type": "code",
   "execution_count": null,
   "metadata": {},
   "outputs": [],
   "source": [
    "DimPlot(seurat_hvg_pca_label_cluster_tsne, group.by='phenoid', reduction = \"tsne\")"
   ]
  },
  {
   "cell_type": "code",
   "execution_count": null,
   "metadata": {},
   "outputs": [],
   "source": [
    "DimPlot(seurat_hvg_pca_label_cluster_tsne, group.by='seurat_clusters', reduction = \"tsne\")"
   ]
  },
  {
   "cell_type": "code",
   "execution_count": null,
   "metadata": {},
   "outputs": [],
   "source": [
    "write.table(seurat_hvg_pca_label_cluster_tsne@meta.data['seurat_clusters'],sprintf('datasets/extract/%s.clusterlabel.%s.tsv',save_name,'1_0'),sep='\\t')"
   ]
  },
  {
   "cell_type": "code",
   "execution_count": null,
   "metadata": {},
   "outputs": [],
   "source": []
  },
  {
   "cell_type": "code",
   "execution_count": null,
   "metadata": {},
   "outputs": [],
   "source": []
  },
  {
   "cell_type": "code",
   "execution_count": null,
   "metadata": {},
   "outputs": [],
   "source": []
  },
  {
   "cell_type": "code",
   "execution_count": null,
   "metadata": {},
   "outputs": [],
   "source": [
    "seurat_hvg_pca_label <- FindNeighbors(seurat_hvg_pca, dims = 1:10)\n",
    "seurat_hvg_pca_label_cluster <- FindClusters(seurat_hvg_pca_label, resolution = 1.5)\n",
    "seurat_hvg_pca_label_cluster_tsne <- RunTSNE(seurat_hvg_pca_label_cluster, dims= 1:10)"
   ]
  },
  {
   "cell_type": "code",
   "execution_count": null,
   "metadata": {},
   "outputs": [],
   "source": [
    "DimPlot(seurat_hvg_pca_label_cluster_tsne, group.by='phenoid', reduction = \"tsne\")"
   ]
  },
  {
   "cell_type": "code",
   "execution_count": null,
   "metadata": {},
   "outputs": [],
   "source": [
    "DimPlot(seurat_hvg_pca_label_cluster_tsne, group.by='seurat_clusters', reduction = \"tsne\")"
   ]
  },
  {
   "cell_type": "code",
   "execution_count": null,
   "metadata": {},
   "outputs": [],
   "source": [
    "write.table(seurat_hvg_pca_label_cluster_tsne@meta.data['seurat_clusters'],sprintf('datasets/extract/%s.clusterlabel.%s.tsv',save_name,'1_5'),sep='\\t')"
   ]
  },
  {
   "cell_type": "code",
   "execution_count": null,
   "metadata": {},
   "outputs": [],
   "source": []
  },
  {
   "cell_type": "code",
   "execution_count": null,
   "metadata": {},
   "outputs": [],
   "source": []
  },
  {
   "cell_type": "code",
   "execution_count": null,
   "metadata": {},
   "outputs": [],
   "source": []
  },
  {
   "cell_type": "code",
   "execution_count": null,
   "metadata": {},
   "outputs": [],
   "source": []
  },
  {
   "cell_type": "code",
   "execution_count": null,
   "metadata": {},
   "outputs": [],
   "source": []
  },
  {
   "cell_type": "code",
   "execution_count": null,
   "metadata": {},
   "outputs": [],
   "source": []
  },
  {
   "cell_type": "code",
   "execution_count": null,
   "metadata": {},
   "outputs": [],
   "source": []
  },
  {
   "cell_type": "code",
   "execution_count": null,
   "metadata": {},
   "outputs": [],
   "source": []
  },
  {
   "cell_type": "code",
   "execution_count": null,
   "metadata": {},
   "outputs": [],
   "source": []
  },
  {
   "cell_type": "code",
   "execution_count": null,
   "metadata": {},
   "outputs": [],
   "source": []
  },
  {
   "cell_type": "code",
   "execution_count": null,
   "metadata": {},
   "outputs": [],
   "source": []
  },
  {
   "cell_type": "code",
   "execution_count": null,
   "metadata": {},
   "outputs": [],
   "source": []
  },
  {
   "cell_type": "code",
   "execution_count": null,
   "metadata": {},
   "outputs": [],
   "source": []
  },
  {
   "cell_type": "code",
   "execution_count": null,
   "metadata": {},
   "outputs": [],
   "source": []
  },
  {
   "cell_type": "code",
   "execution_count": null,
   "metadata": {},
   "outputs": [],
   "source": []
  },
  {
   "cell_type": "code",
   "execution_count": null,
   "metadata": {},
   "outputs": [],
   "source": []
  },
  {
   "cell_type": "code",
   "execution_count": null,
   "metadata": {},
   "outputs": [],
   "source": []
  },
  {
   "cell_type": "code",
   "execution_count": null,
   "metadata": {},
   "outputs": [],
   "source": []
  },
  {
   "cell_type": "code",
   "execution_count": null,
   "metadata": {},
   "outputs": [],
   "source": [
    "#Idents(seurat)=seurat@meta.data['seurat_clusters']\n",
    "#markers <- FindAllMarkers(seurat, test.use=\"wilcox\", only.pos = TRUE, min.pct = 0.1, logfc.threshold = 0.25)\n",
    "#write.table(markers,sprintf('datasets/extract/%s.clusteringdeg.%s.tsv',save_name,'0_5'),sep='\\t')\n",
    "#write.table(seurat_hvg_pca_label_cluster@meta.data['seurat_clusters'],sprintf('datasets/extract/%s.clusterlabel.%s.tsv',save_name,0.1),sep='\\t')\n",
    "#DimPlot(seurat_hvg_pca_label_cluster, reduction = \"tsne\")"
   ]
  },
  {
   "cell_type": "code",
   "execution_count": null,
   "metadata": {},
   "outputs": [],
   "source": [
    "priunt(1)"
   ]
  },
  {
   "cell_type": "code",
   "execution_count": null,
   "metadata": {},
   "outputs": [],
   "source": [
    "seurat1 <- FindNeighbors(seurat1, dims = 1:10)\n",
    "seurat1 <- FindClusters(seurat1, resolution = 0.5)\n",
    "\n",
    "Idents(seurat1)=seurat1@meta.data['seurat_clusters']\n",
    "markers <- FindAllMarkers(seurat1, test.use=\"wilcox\", only.pos = TRUE, min.pct = 0.1, logfc.threshold = 0.25)\n",
    "write.table(markers,sprintf('datasets/extract/%s.clusteringdeg.%s.tsv',save_name,'0_5'),sep='\\t')\n",
    "\n",
    "DimPlot(seurat1, reduction = \"tsne\")"
   ]
  },
  {
   "cell_type": "code",
   "execution_count": null,
   "metadata": {},
   "outputs": [],
   "source": [
    "seurat1 <- FindNeighbors(seurat1, dims = 1:10)\n",
    "seurat1 <- FindClusters(seurat1, resolution = 1.0)\n",
    "\n",
    "Idents(seurat1)=seurat1@meta.data['seurat_clusters']\n",
    "markers <- FindAllMarkers(seurat1, test.use=\"wilcox\", only.pos = TRUE, min.pct = 0.1, logfc.threshold = 0.25)\n",
    "write.table(markers,sprintf('datasets/extract/%s.clusteringdeg.%s.tsv',save_name,'1_0'),sep='\\t')\n",
    "\n",
    "DimPlot(seurat1, reduction = \"tsne\")"
   ]
  },
  {
   "cell_type": "code",
   "execution_count": null,
   "metadata": {},
   "outputs": [],
   "source": [
    "seurat1 <- FindNeighbors(seurat1, dims = 1:10)\n",
    "seurat1 <- FindClusters(seurat1, resolution = 1.5)\n",
    "\n",
    "Idents(seurat1)=seurat1@meta.data['seurat_clusters']\n",
    "markers <- FindAllMarkers(seurat1, test.use=\"wilcox\", only.pos = TRUE, min.pct = 0.1, logfc.threshold = 0.25)\n",
    "write.table(markers,sprintf('datasets/extract/%s.clusteringdeg.%s.tsv',save_name,'1_5'),sep='\\t')\n",
    "\n",
    "DimPlot(seurat1, reduction = \"tsne\")"
   ]
  }
 ],
 "metadata": {
  "kernelspec": {
   "display_name": "R",
   "language": "R",
   "name": "ir"
  },
  "language_info": {
   "codemirror_mode": "r",
   "file_extension": ".r",
   "mimetype": "text/x-r-source",
   "name": "R",
   "pygments_lexer": "r",
   "version": "4.0.3"
  }
 },
 "nbformat": 4,
 "nbformat_minor": 4
}
