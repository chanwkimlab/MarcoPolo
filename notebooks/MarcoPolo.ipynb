{
 "cells": [
  {
   "cell_type": "markdown",
   "metadata": {},
   "source": [
    "[![Open In Colab](https://colab.research.google.com/assets/colab-badge.svg)](https://colab.research.google.com/github/chanwkimlab/MarcoPolo/blob/main/notebooks/tutorial.ipynb)"
   ]
  },
  {
   "cell_type": "markdown",
   "metadata": {
    "pycharm": {
     "name": "#%% md\n"
    }
   },
   "source": [
    "# Setup"
   ]
  },
  {
   "cell_type": "markdown",
   "metadata": {
    "pycharm": {
     "name": "#%%\n"
    }
   },
   "source": [
    "**Start the colab kernel with GPU**: Runtime -> Change runtime type -> GPU"
   ]
  },
  {
   "cell_type": "markdown",
   "metadata": {
    "pycharm": {
     "name": "#%%\n"
    }
   },
   "source": [
    "## Install dependencies"
   ]
  },
  {
   "cell_type": "code",
   "execution_count": null,
   "metadata": {
    "pycharm": {
     "name": "#%%\n"
    },
    "scrolled": false
   },
   "outputs": [],
   "source": [
    "!pip install marcopolo-pytorch --upgrade"
   ]
  },
  {
   "cell_type": "markdown",
   "metadata": {},
   "source": [
    "# Run MarcoPolo"
   ]
  },
  {
   "cell_type": "markdown",
   "metadata": {},
   "source": [
    "## Import packages"
   ]
  },
  {
   "cell_type": "code",
   "execution_count": null,
   "metadata": {},
   "outputs": [],
   "source": [
    "# Import packages\n",
    "import pickle\n",
    "\n",
    "import numpy as np\n",
    "import pandas as pd\n",
    "import torch\n",
    "import anndata as ad\n",
    "import scanpy as sc\n",
    "import matplotlib.pyplot as plt\n",
    "\n",
    "import MarcoPolo\n",
    "\n",
    "assert torch.cuda.is_available(), \"Make sure that you started the colab kernel with GPU: Runtime -> Change runtime type -> GPU\""
   ]
  },
  {
   "cell_type": "markdown",
   "metadata": {},
   "source": [
    "## Read scRNA-seq data"
   ]
  },
  {
   "cell_type": "markdown",
   "metadata": {},
   "source": [
    "You can use **example data** or **your own data**.\n",
    "\n",
    "It should be in a AnnData format. `.X` should contain a raw count matrix of shape (# cells, # genes). You can explore example datasets below"
   ]
  },
  {
   "cell_type": "markdown",
   "metadata": {},
   "source": [
    "### example data\n",
    "We have prepared two example data: the human embryogenic stem cell (hESC) dataset of Koh et al. and the liver dataset of MacParland et al.    "
   ]
  },
  {
   "cell_type": "code",
   "execution_count": null,
   "metadata": {},
   "outputs": [],
   "source": [
    "!wget https://raw.githubusercontent.com/chanwkimlab/MarcoPolo/main/notebooks/example/hESC.h5ad\n",
    "!wget https://raw.githubusercontent.com/chanwkimlab/MarcoPolo/main/notebooks/example/HumanLiver.h5ad\n",
    "    \n",
    "anndata_path = \"HumanLiver.h5ad\"\n",
    "\n",
    "# Read anndata. `anndata_path` should be in a `h5ad` format.\n",
    "adata = ad.read(anndata_path)\n",
    "\n",
    "# For fast debugging, only test first 1,000 genes.\n",
    "adata = adata[:, :1000]"
   ]
  },
  {
   "cell_type": "markdown",
   "metadata": {},
   "source": [
    "### your own data\n",
    "You can upload your own AnnData single cell file to this session. If you intend to use the example data, please run the following cell and upload your data."
   ]
  },
  {
   "cell_type": "code",
   "execution_count": null,
   "metadata": {},
   "outputs": [],
   "source": [
    "from google.colab import files\n",
    "uploaded = files.upload()\n",
    "\n",
    "for file_name in uploaded.keys():\n",
    "    print('User uploaded file \"{name}\" with length {length} bytes'.format(name=file_name, length=len(uploaded[file_name])))\n",
    "    \n",
    "anndata_path = file_name\n",
    "\n",
    "# Read anndata. `anndata_path` should be in a `h5ad` format.\n",
    "adata = ad.read(anndata_path)"
   ]
  },
  {
   "cell_type": "markdown",
   "metadata": {},
   "source": [
    "## (1) Run regression"
   ]
  },
  {
   "cell_type": "code",
   "execution_count": null,
   "metadata": {},
   "outputs": [],
   "source": [
    "# (1) Run regression\n",
    "# Calculate size factor\n",
    "if \"size_factor\" not in adata.obs.columns:\n",
    "    norm_factor = sc.pp.normalize_total(adata, exclude_highly_expressed=True, max_fraction= 0.2, inplace=False)[\"norm_factor\"]\n",
    "    adata.obs[\"size_factor\"] = norm_factor/norm_factor.mean()\n",
    "    print(\"size factor was calculated\")\n",
    "regression_result = MarcoPolo.run_regression(adata=adata, size_factor_key=\"size_factor\",\n",
    "                         num_threads=1, device=\"cuda:0\")\n",
    "# If you use a local machine, you can set `num_threads` to higher than 1 (maybe upto 4), which will speed up the regression a lot. For some reason, num_threads>1 does not work on colab.\n",
    "\n",
    "with open(f\"{anndata_path}.regression_result.pickle\", \"wb\") as f:\n",
    "    pickle.dump(regression_result, f)"
   ]
  },
  {
   "cell_type": "markdown",
   "metadata": {},
   "source": [
    "## (2) Find markers"
   ]
  },
  {
   "cell_type": "code",
   "execution_count": null,
   "metadata": {},
   "outputs": [],
   "source": [
    "# (2) Find markers\n",
    "markers_result = MarcoPolo.find_markers(adata=adata, regression_result=regression_result)\n",
    "with open(f\"{anndata_path}.markers_result.pickle\", \"wb\") as f:\n",
    "    pickle.dump(markers_result, f)"
   ]
  },
  {
   "cell_type": "markdown",
   "metadata": {},
   "source": [
    "## (3) Generate report"
   ]
  },
  {
   "cell_type": "code",
   "execution_count": null,
   "metadata": {},
   "outputs": [],
   "source": [
    "# Obtain tSNE coordinates if it does not exist in the adata.\n",
    "if \"X_tsne\" not in adata.obsm.keys():\n",
    "    sc.tl.tsne(adata=adata)"
   ]
  },
  {
   "cell_type": "code",
   "execution_count": null,
   "metadata": {
    "scrolled": false
   },
   "outputs": [],
   "source": [
    "# (3) Generate report\n",
    "MarcoPolo.generate_report(adata=adata, size_factor_key=\"size_factor\", \n",
    "                          regression_result=regression_result, \n",
    "                          gene_scores=markers_result, \n",
    "                          output_dir=\"./\",  \n",
    "                          low_dim_key=\"X_tsne\",\n",
    "                          cell_color_key=\"cell_type\",\n",
    "                          gene_info_path=\"https://ftp.ncbi.nih.gov/gene/DATA/GENE_INFO/Mammalia/Homo_sapiens.gene_info.gz\")"
   ]
  },
  {
   "cell_type": "markdown",
   "metadata": {},
   "source": [
    "# Download report"
   ]
  },
  {
   "cell_type": "markdown",
   "metadata": {},
   "source": [
    "## compress the report folder "
   ]
  },
  {
   "cell_type": "code",
   "execution_count": null,
   "metadata": {},
   "outputs": [],
   "source": [
    "!tar -zcvf report.tar.gz report"
   ]
  },
  {
   "cell_type": "markdown",
   "metadata": {},
   "source": [
    "## trigger download"
   ]
  },
  {
   "cell_type": "code",
   "execution_count": null,
   "metadata": {},
   "outputs": [],
   "source": [
    "from google.colab import files\n",
    "\n",
    "files.download('report.tar.gz')"
   ]
  }
 ],
 "metadata": {
  "kernelspec": {
   "display_name": "marcopolo",
   "language": "python",
   "name": "marcopolo"
  },
  "language_info": {
   "codemirror_mode": {
    "name": "ipython",
    "version": 3
   },
   "file_extension": ".py",
   "mimetype": "text/x-python",
   "name": "python",
   "nbconvert_exporter": "python",
   "pygments_lexer": "ipython3",
   "version": "3.8.13"
  }
 },
 "nbformat": 4,
 "nbformat_minor": 1
}
