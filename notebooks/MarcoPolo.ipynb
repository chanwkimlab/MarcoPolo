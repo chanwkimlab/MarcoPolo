{
 "cells": [
  {
   "cell_type": "markdown",
   "metadata": {
    "id": "vs9UoZ6URwgl"
   },
   "source": [
    "[![Open In Colab](https://colab.research.google.com/assets/colab-badge.svg)](https://colab.research.google.com/github/chanwkimlab/MarcoPolo/blob/main/notebooks/tutorial.ipynb)"
   ]
  },
  {
   "cell_type": "markdown",
   "metadata": {
    "pycharm": {
     "name": "#%% md\n"
    },
    "id": "gA_KZBsPRwgm"
   },
   "source": [
    "# Setup"
   ]
  },
  {
   "cell_type": "markdown",
   "metadata": {
    "pycharm": {
     "name": "#%%\n"
    },
    "id": "bMTZ-QvYRwgn"
   },
   "source": [
    "**Start the colab kernel with GPU**: Runtime -> Change runtime type -> GPU"
   ]
  },
  {
   "cell_type": "markdown",
   "metadata": {
    "pycharm": {
     "name": "#%%\n"
    },
    "id": "bL93Y8aYRwgn"
   },
   "source": [
    "## Install dependencies"
   ]
  },
  {
   "cell_type": "code",
   "execution_count": null,
   "metadata": {
    "pycharm": {
     "name": "#%%\n"
    },
    "scrolled": false,
    "id": "kFTpg30WRwgn",
    "executionInfo": {
     "status": "ok",
     "timestamp": 1655486611669,
     "user_tz": 420,
     "elapsed": 24645,
     "user": {
      "displayName": "",
      "userId": ""
     }
    },
    "outputId": "e3f47622-ea1c-4234-965e-93c6350d9d14",
    "colab": {
     "base_uri": "https://localhost:8080/",
     "height": 1000
    }
   },
   "outputs": [
    {
     "output_type": "stream",
     "name": "stdout",
     "text": [
      "Looking in indexes: https://pypi.org/simple, https://us-python.pkg.dev/colab-wheels/public/simple/\n",
      "Collecting marcopolo-pytorch\n",
      "  Downloading marcopolo_pytorch-1.0.9-py3-none-any.whl (614 kB)\n",
      "\u001B[K     |████████████████████████████████| 614 kB 4.8 MB/s \n",
      "\u001B[?25hCollecting anndata>=0.7.4\n",
      "  Downloading anndata-0.8.0-py3-none-any.whl (96 kB)\n",
      "\u001B[K     |████████████████████████████████| 96 kB 2.8 MB/s \n",
      "\u001B[?25hRequirement already satisfied: numpy>=1.19.2 in /usr/local/lib/python3.7/dist-packages (from marcopolo-pytorch) (1.21.6)\n",
      "Requirement already satisfied: Jinja2>=2.11.2 in /usr/local/lib/python3.7/dist-packages (from marcopolo-pytorch) (2.11.3)\n",
      "Collecting scipy>=1.6.1\n",
      "  Downloading scipy-1.7.3-cp37-cp37m-manylinux_2_12_x86_64.manylinux2010_x86_64.whl (38.1 MB)\n",
      "\u001B[K     |████████████████████████████████| 38.1 MB 2.5 MB/s \n",
      "\u001B[?25hRequirement already satisfied: seaborn>=0.11.1 in /usr/local/lib/python3.7/dist-packages (from marcopolo-pytorch) (0.11.2)\n",
      "Requirement already satisfied: scikit-learn>=0.24.1 in /usr/local/lib/python3.7/dist-packages (from marcopolo-pytorch) (1.0.2)\n",
      "Requirement already satisfied: torch>=1.4.0 in /usr/local/lib/python3.7/dist-packages (from marcopolo-pytorch) (1.11.0+cu113)\n",
      "Requirement already satisfied: rpy2>=3.4.2 in /usr/local/lib/python3.7/dist-packages (from marcopolo-pytorch) (3.4.5)\n",
      "Requirement already satisfied: tqdm in /usr/local/lib/python3.7/dist-packages (from marcopolo-pytorch) (4.64.0)\n",
      "Collecting matplotlib>=3.3.0\n",
      "  Downloading matplotlib-3.5.2-cp37-cp37m-manylinux_2_5_x86_64.manylinux1_x86_64.whl (11.2 MB)\n",
      "\u001B[K     |████████████████████████████████| 11.2 MB 52.3 MB/s \n",
      "\u001B[?25hCollecting scanpy>=1.9.0\n",
      "  Downloading scanpy-1.9.1-py3-none-any.whl (2.0 MB)\n",
      "\u001B[K     |████████████████████████████████| 2.0 MB 52.2 MB/s \n",
      "\u001B[?25hCollecting einops>=0.3\n",
      "  Downloading einops-0.4.1-py3-none-any.whl (28 kB)\n",
      "Requirement already satisfied: pandas>=1.2.0 in /usr/local/lib/python3.7/dist-packages (from marcopolo-pytorch) (1.3.5)\n",
      "Requirement already satisfied: ipywidgets>=7.5.1 in /usr/local/lib/python3.7/dist-packages (from marcopolo-pytorch) (7.7.0)\n",
      "Requirement already satisfied: packaging>=20 in /usr/local/lib/python3.7/dist-packages (from anndata>=0.7.4->marcopolo-pytorch) (21.3)\n",
      "Requirement already satisfied: h5py>=3 in /usr/local/lib/python3.7/dist-packages (from anndata>=0.7.4->marcopolo-pytorch) (3.1.0)\n",
      "Requirement already satisfied: importlib_metadata>=0.7 in /usr/local/lib/python3.7/dist-packages (from anndata>=0.7.4->marcopolo-pytorch) (4.11.4)\n",
      "Requirement already satisfied: natsort in /usr/local/lib/python3.7/dist-packages (from anndata>=0.7.4->marcopolo-pytorch) (5.5.0)\n",
      "Requirement already satisfied: typing_extensions in /usr/local/lib/python3.7/dist-packages (from anndata>=0.7.4->marcopolo-pytorch) (4.1.1)\n",
      "Requirement already satisfied: cached-property in /usr/local/lib/python3.7/dist-packages (from h5py>=3->anndata>=0.7.4->marcopolo-pytorch) (1.5.2)\n",
      "Requirement already satisfied: zipp>=0.5 in /usr/local/lib/python3.7/dist-packages (from importlib_metadata>=0.7->anndata>=0.7.4->marcopolo-pytorch) (3.8.0)\n",
      "Requirement already satisfied: jupyterlab-widgets>=1.0.0 in /usr/local/lib/python3.7/dist-packages (from ipywidgets>=7.5.1->marcopolo-pytorch) (1.1.0)\n",
      "Requirement already satisfied: ipykernel>=4.5.1 in /usr/local/lib/python3.7/dist-packages (from ipywidgets>=7.5.1->marcopolo-pytorch) (4.10.1)\n",
      "Requirement already satisfied: nbformat>=4.2.0 in /usr/local/lib/python3.7/dist-packages (from ipywidgets>=7.5.1->marcopolo-pytorch) (5.4.0)\n",
      "Requirement already satisfied: ipython>=4.0.0 in /usr/local/lib/python3.7/dist-packages (from ipywidgets>=7.5.1->marcopolo-pytorch) (5.5.0)\n",
      "Requirement already satisfied: ipython-genutils~=0.2.0 in /usr/local/lib/python3.7/dist-packages (from ipywidgets>=7.5.1->marcopolo-pytorch) (0.2.0)\n",
      "Requirement already satisfied: traitlets>=4.3.1 in /usr/local/lib/python3.7/dist-packages (from ipywidgets>=7.5.1->marcopolo-pytorch) (5.1.1)\n",
      "Requirement already satisfied: widgetsnbextension~=3.6.0 in /usr/local/lib/python3.7/dist-packages (from ipywidgets>=7.5.1->marcopolo-pytorch) (3.6.0)\n",
      "Requirement already satisfied: tornado>=4.0 in /usr/local/lib/python3.7/dist-packages (from ipykernel>=4.5.1->ipywidgets>=7.5.1->marcopolo-pytorch) (5.1.1)\n",
      "Requirement already satisfied: jupyter-client in /usr/local/lib/python3.7/dist-packages (from ipykernel>=4.5.1->ipywidgets>=7.5.1->marcopolo-pytorch) (5.3.5)\n",
      "Requirement already satisfied: setuptools>=18.5 in /usr/local/lib/python3.7/dist-packages (from ipython>=4.0.0->ipywidgets>=7.5.1->marcopolo-pytorch) (57.4.0)\n",
      "Requirement already satisfied: prompt-toolkit<2.0.0,>=1.0.4 in /usr/local/lib/python3.7/dist-packages (from ipython>=4.0.0->ipywidgets>=7.5.1->marcopolo-pytorch) (1.0.18)\n",
      "Requirement already satisfied: pexpect in /usr/local/lib/python3.7/dist-packages (from ipython>=4.0.0->ipywidgets>=7.5.1->marcopolo-pytorch) (4.8.0)\n",
      "Requirement already satisfied: pickleshare in /usr/local/lib/python3.7/dist-packages (from ipython>=4.0.0->ipywidgets>=7.5.1->marcopolo-pytorch) (0.7.5)\n",
      "Requirement already satisfied: pygments in /usr/local/lib/python3.7/dist-packages (from ipython>=4.0.0->ipywidgets>=7.5.1->marcopolo-pytorch) (2.6.1)\n",
      "Requirement already satisfied: simplegeneric>0.8 in /usr/local/lib/python3.7/dist-packages (from ipython>=4.0.0->ipywidgets>=7.5.1->marcopolo-pytorch) (0.8.1)\n",
      "Requirement already satisfied: decorator in /usr/local/lib/python3.7/dist-packages (from ipython>=4.0.0->ipywidgets>=7.5.1->marcopolo-pytorch) (4.4.2)\n",
      "Requirement already satisfied: MarkupSafe>=0.23 in /usr/local/lib/python3.7/dist-packages (from Jinja2>=2.11.2->marcopolo-pytorch) (2.0.1)\n",
      "Requirement already satisfied: cycler>=0.10 in /usr/local/lib/python3.7/dist-packages (from matplotlib>=3.3.0->marcopolo-pytorch) (0.11.0)\n",
      "Requirement already satisfied: python-dateutil>=2.7 in /usr/local/lib/python3.7/dist-packages (from matplotlib>=3.3.0->marcopolo-pytorch) (2.8.2)\n",
      "Requirement already satisfied: pillow>=6.2.0 in /usr/local/lib/python3.7/dist-packages (from matplotlib>=3.3.0->marcopolo-pytorch) (7.1.2)\n",
      "Requirement already satisfied: pyparsing>=2.2.1 in /usr/local/lib/python3.7/dist-packages (from matplotlib>=3.3.0->marcopolo-pytorch) (3.0.9)\n",
      "Collecting fonttools>=4.22.0\n",
      "  Downloading fonttools-4.33.3-py3-none-any.whl (930 kB)\n",
      "\u001B[K     |████████████████████████████████| 930 kB 50.4 MB/s \n",
      "\u001B[?25hRequirement already satisfied: kiwisolver>=1.0.1 in /usr/local/lib/python3.7/dist-packages (from matplotlib>=3.3.0->marcopolo-pytorch) (1.4.3)\n",
      "Requirement already satisfied: jsonschema>=2.6 in /usr/local/lib/python3.7/dist-packages (from nbformat>=4.2.0->ipywidgets>=7.5.1->marcopolo-pytorch) (4.3.3)\n",
      "Requirement already satisfied: jupyter-core in /usr/local/lib/python3.7/dist-packages (from nbformat>=4.2.0->ipywidgets>=7.5.1->marcopolo-pytorch) (4.10.0)\n",
      "Requirement already satisfied: fastjsonschema in /usr/local/lib/python3.7/dist-packages (from nbformat>=4.2.0->ipywidgets>=7.5.1->marcopolo-pytorch) (2.15.3)\n",
      "Requirement already satisfied: attrs>=17.4.0 in /usr/local/lib/python3.7/dist-packages (from jsonschema>=2.6->nbformat>=4.2.0->ipywidgets>=7.5.1->marcopolo-pytorch) (21.4.0)\n",
      "Requirement already satisfied: importlib-resources>=1.4.0 in /usr/local/lib/python3.7/dist-packages (from jsonschema>=2.6->nbformat>=4.2.0->ipywidgets>=7.5.1->marcopolo-pytorch) (5.7.1)\n",
      "Requirement already satisfied: pyrsistent!=0.17.0,!=0.17.1,!=0.17.2,>=0.14.0 in /usr/local/lib/python3.7/dist-packages (from jsonschema>=2.6->nbformat>=4.2.0->ipywidgets>=7.5.1->marcopolo-pytorch) (0.18.1)\n",
      "Requirement already satisfied: pytz>=2017.3 in /usr/local/lib/python3.7/dist-packages (from pandas>=1.2.0->marcopolo-pytorch) (2022.1)\n",
      "Requirement already satisfied: six>=1.9.0 in /usr/local/lib/python3.7/dist-packages (from prompt-toolkit<2.0.0,>=1.0.4->ipython>=4.0.0->ipywidgets>=7.5.1->marcopolo-pytorch) (1.15.0)\n",
      "Requirement already satisfied: wcwidth in /usr/local/lib/python3.7/dist-packages (from prompt-toolkit<2.0.0,>=1.0.4->ipython>=4.0.0->ipywidgets>=7.5.1->marcopolo-pytorch) (0.2.5)\n",
      "Requirement already satisfied: cffi>=1.10.0 in /usr/local/lib/python3.7/dist-packages (from rpy2>=3.4.2->marcopolo-pytorch) (1.15.0)\n",
      "Requirement already satisfied: tzlocal in /usr/local/lib/python3.7/dist-packages (from rpy2>=3.4.2->marcopolo-pytorch) (1.5.1)\n",
      "Requirement already satisfied: pycparser in /usr/local/lib/python3.7/dist-packages (from cffi>=1.10.0->rpy2>=3.4.2->marcopolo-pytorch) (2.21)\n",
      "Requirement already satisfied: numba>=0.41.0 in /usr/local/lib/python3.7/dist-packages (from scanpy>=1.9.0->marcopolo-pytorch) (0.51.2)\n",
      "Requirement already satisfied: statsmodels>=0.10.0rc2 in /usr/local/lib/python3.7/dist-packages (from scanpy>=1.9.0->marcopolo-pytorch) (0.10.2)\n",
      "Requirement already satisfied: patsy in /usr/local/lib/python3.7/dist-packages (from scanpy>=1.9.0->marcopolo-pytorch) (0.5.2)\n",
      "Requirement already satisfied: joblib in /usr/local/lib/python3.7/dist-packages (from scanpy>=1.9.0->marcopolo-pytorch) (1.1.0)\n",
      "Collecting session-info\n",
      "  Downloading session_info-1.0.0.tar.gz (24 kB)\n",
      "Requirement already satisfied: networkx>=2.3 in /usr/local/lib/python3.7/dist-packages (from scanpy>=1.9.0->marcopolo-pytorch) (2.6.3)\n",
      "Collecting umap-learn>=0.3.10\n",
      "  Downloading umap-learn-0.5.3.tar.gz (88 kB)\n",
      "\u001B[K     |████████████████████████████████| 88 kB 9.5 MB/s \n",
      "\u001B[?25hRequirement already satisfied: llvmlite<0.35,>=0.34.0.dev0 in /usr/local/lib/python3.7/dist-packages (from numba>=0.41.0->scanpy>=1.9.0->marcopolo-pytorch) (0.34.0)\n",
      "Requirement already satisfied: threadpoolctl>=2.0.0 in /usr/local/lib/python3.7/dist-packages (from scikit-learn>=0.24.1->marcopolo-pytorch) (3.1.0)\n",
      "Collecting pynndescent>=0.5\n",
      "  Downloading pynndescent-0.5.7.tar.gz (1.1 MB)\n",
      "\u001B[K     |████████████████████████████████| 1.1 MB 58.0 MB/s \n",
      "\u001B[?25hRequirement already satisfied: notebook>=4.4.1 in /usr/local/lib/python3.7/dist-packages (from widgetsnbextension~=3.6.0->ipywidgets>=7.5.1->marcopolo-pytorch) (5.3.1)\n",
      "Requirement already satisfied: Send2Trash in /usr/local/lib/python3.7/dist-packages (from notebook>=4.4.1->widgetsnbextension~=3.6.0->ipywidgets>=7.5.1->marcopolo-pytorch) (1.8.0)\n",
      "Requirement already satisfied: nbconvert in /usr/local/lib/python3.7/dist-packages (from notebook>=4.4.1->widgetsnbextension~=3.6.0->ipywidgets>=7.5.1->marcopolo-pytorch) (5.6.1)\n",
      "Requirement already satisfied: terminado>=0.8.1 in /usr/local/lib/python3.7/dist-packages (from notebook>=4.4.1->widgetsnbextension~=3.6.0->ipywidgets>=7.5.1->marcopolo-pytorch) (0.13.3)\n",
      "Requirement already satisfied: pyzmq>=13 in /usr/local/lib/python3.7/dist-packages (from jupyter-client->ipykernel>=4.5.1->ipywidgets>=7.5.1->marcopolo-pytorch) (23.1.0)\n",
      "Requirement already satisfied: ptyprocess in /usr/local/lib/python3.7/dist-packages (from terminado>=0.8.1->notebook>=4.4.1->widgetsnbextension~=3.6.0->ipywidgets>=7.5.1->marcopolo-pytorch) (0.7.0)\n",
      "Requirement already satisfied: mistune<2,>=0.8.1 in /usr/local/lib/python3.7/dist-packages (from nbconvert->notebook>=4.4.1->widgetsnbextension~=3.6.0->ipywidgets>=7.5.1->marcopolo-pytorch) (0.8.4)\n",
      "Requirement already satisfied: defusedxml in /usr/local/lib/python3.7/dist-packages (from nbconvert->notebook>=4.4.1->widgetsnbextension~=3.6.0->ipywidgets>=7.5.1->marcopolo-pytorch) (0.7.1)\n",
      "Requirement already satisfied: testpath in /usr/local/lib/python3.7/dist-packages (from nbconvert->notebook>=4.4.1->widgetsnbextension~=3.6.0->ipywidgets>=7.5.1->marcopolo-pytorch) (0.6.0)\n",
      "Requirement already satisfied: bleach in /usr/local/lib/python3.7/dist-packages (from nbconvert->notebook>=4.4.1->widgetsnbextension~=3.6.0->ipywidgets>=7.5.1->marcopolo-pytorch) (5.0.0)\n",
      "Requirement already satisfied: entrypoints>=0.2.2 in /usr/local/lib/python3.7/dist-packages (from nbconvert->notebook>=4.4.1->widgetsnbextension~=3.6.0->ipywidgets>=7.5.1->marcopolo-pytorch) (0.4)\n",
      "Requirement already satisfied: pandocfilters>=1.4.1 in /usr/local/lib/python3.7/dist-packages (from nbconvert->notebook>=4.4.1->widgetsnbextension~=3.6.0->ipywidgets>=7.5.1->marcopolo-pytorch) (1.5.0)\n",
      "Requirement already satisfied: webencodings in /usr/local/lib/python3.7/dist-packages (from bleach->nbconvert->notebook>=4.4.1->widgetsnbextension~=3.6.0->ipywidgets>=7.5.1->marcopolo-pytorch) (0.5.1)\n",
      "Collecting stdlib_list\n",
      "  Downloading stdlib_list-0.8.0-py3-none-any.whl (63 kB)\n",
      "\u001B[K     |████████████████████████████████| 63 kB 2.1 MB/s \n",
      "\u001B[?25hBuilding wheels for collected packages: umap-learn, pynndescent, session-info\n",
      "  Building wheel for umap-learn (setup.py) ... \u001B[?25l\u001B[?25hdone\n",
      "  Created wheel for umap-learn: filename=umap_learn-0.5.3-py3-none-any.whl size=82829 sha256=3e71036eba287a07a3567bb27056e630f811cf53267c215c5a28baa7bc49a4e7\n",
      "  Stored in directory: /root/.cache/pip/wheels/b3/52/a5/1fd9e3e76a7ab34f134c07469cd6f16e27ef3a37aeff1fe821\n",
      "  Building wheel for pynndescent (setup.py) ... \u001B[?25l\u001B[?25hdone\n",
      "  Created wheel for pynndescent: filename=pynndescent-0.5.7-py3-none-any.whl size=54286 sha256=5c2c96f90bc47e5f97c2028eebec7df7befdcc589a1203faf01cbc66e0ecebbd\n",
      "  Stored in directory: /root/.cache/pip/wheels/7f/2a/f8/7bd5dcec71bd5c669f6f574db3113513696b98f3f9b51f496c\n",
      "  Building wheel for session-info (setup.py) ... \u001B[?25l\u001B[?25hdone\n",
      "  Created wheel for session-info: filename=session_info-1.0.0-py3-none-any.whl size=8048 sha256=409717167be1a201b4d9f94137ac65f083e77691cbfa92f03dd6b1777446e00d\n",
      "  Stored in directory: /root/.cache/pip/wheels/bd/ad/14/6a42359351a18337a8683854cfbba99dd782271f2d1767f87f\n",
      "Successfully built umap-learn pynndescent session-info\n",
      "Installing collected packages: scipy, fonttools, stdlib-list, pynndescent, matplotlib, umap-learn, session-info, anndata, scanpy, einops, marcopolo-pytorch\n",
      "  Attempting uninstall: scipy\n",
      "    Found existing installation: scipy 1.4.1\n",
      "    Uninstalling scipy-1.4.1:\n",
      "      Successfully uninstalled scipy-1.4.1\n",
      "  Attempting uninstall: matplotlib\n",
      "    Found existing installation: matplotlib 3.2.2\n",
      "    Uninstalling matplotlib-3.2.2:\n",
      "      Successfully uninstalled matplotlib-3.2.2\n",
      "\u001B[31mERROR: pip's dependency resolver does not currently take into account all the packages that are installed. This behaviour is the source of the following dependency conflicts.\n",
      "albumentations 0.1.12 requires imgaug<0.2.7,>=0.2.5, but you have imgaug 0.2.9 which is incompatible.\u001B[0m\n",
      "Successfully installed anndata-0.8.0 einops-0.4.1 fonttools-4.33.3 marcopolo-pytorch-1.0.9 matplotlib-3.5.2 pynndescent-0.5.7 scanpy-1.9.1 scipy-1.7.3 session-info-1.0.0 stdlib-list-0.8.0 umap-learn-0.5.3\n"
     ]
    },
    {
     "output_type": "display_data",
     "data": {
      "application/vnd.colab-display-data+json": {
       "pip_warning": {
        "packages": [
         "matplotlib",
         "mpl_toolkits"
        ]
       }
      }
     },
     "metadata": {}
    }
   ],
   "source": [
    "!pip install marcopolo-pytorch --upgrade"
   ]
  },
  {
   "cell_type": "code",
   "source": [
    "!pip install matplotlib==3.1.3"
   ],
   "metadata": {
    "id": "S0SRQCljZY3K",
    "executionInfo": {
     "status": "ok",
     "timestamp": 1655486624657,
     "user_tz": 420,
     "elapsed": 11397,
     "user": {
      "displayName": "",
      "userId": ""
     }
    },
    "outputId": "3ff11f8d-9509-471e-cf93-2d33eff54596",
    "colab": {
     "base_uri": "https://localhost:8080/",
     "height": 489
    }
   },
   "execution_count": null,
   "outputs": [
    {
     "output_type": "stream",
     "name": "stdout",
     "text": [
      "Looking in indexes: https://pypi.org/simple, https://us-python.pkg.dev/colab-wheels/public/simple/\n",
      "Collecting matplotlib==3.1.3\n",
      "  Downloading matplotlib-3.1.3-cp37-cp37m-manylinux1_x86_64.whl (13.1 MB)\n",
      "\u001B[K     |████████████████████████████████| 13.1 MB 4.3 MB/s \n",
      "\u001B[?25hRequirement already satisfied: cycler>=0.10 in /usr/local/lib/python3.7/dist-packages (from matplotlib==3.1.3) (0.11.0)\n",
      "Requirement already satisfied: python-dateutil>=2.1 in /usr/local/lib/python3.7/dist-packages (from matplotlib==3.1.3) (2.8.2)\n",
      "Requirement already satisfied: kiwisolver>=1.0.1 in /usr/local/lib/python3.7/dist-packages (from matplotlib==3.1.3) (1.4.3)\n",
      "Requirement already satisfied: numpy>=1.11 in /usr/local/lib/python3.7/dist-packages (from matplotlib==3.1.3) (1.21.6)\n",
      "Requirement already satisfied: pyparsing!=2.0.4,!=2.1.2,!=2.1.6,>=2.0.1 in /usr/local/lib/python3.7/dist-packages (from matplotlib==3.1.3) (3.0.9)\n",
      "Requirement already satisfied: typing-extensions in /usr/local/lib/python3.7/dist-packages (from kiwisolver>=1.0.1->matplotlib==3.1.3) (4.1.1)\n",
      "Requirement already satisfied: six>=1.5 in /usr/local/lib/python3.7/dist-packages (from python-dateutil>=2.1->matplotlib==3.1.3) (1.15.0)\n",
      "Installing collected packages: matplotlib\n",
      "  Attempting uninstall: matplotlib\n",
      "    Found existing installation: matplotlib 3.5.2\n",
      "    Uninstalling matplotlib-3.5.2:\n",
      "      Successfully uninstalled matplotlib-3.5.2\n",
      "\u001B[31mERROR: pip's dependency resolver does not currently take into account all the packages that are installed. This behaviour is the source of the following dependency conflicts.\n",
      "scanpy 1.9.1 requires matplotlib>=3.4, but you have matplotlib 3.1.3 which is incompatible.\n",
      "marcopolo-pytorch 1.0.9 requires matplotlib>=3.3.0, but you have matplotlib 3.1.3 which is incompatible.\n",
      "albumentations 0.1.12 requires imgaug<0.2.7,>=0.2.5, but you have imgaug 0.2.9 which is incompatible.\u001B[0m\n",
      "Successfully installed matplotlib-3.1.3\n"
     ]
    },
    {
     "output_type": "display_data",
     "data": {
      "application/vnd.colab-display-data+json": {
       "pip_warning": {
        "packages": [
         "matplotlib",
         "mpl_toolkits"
        ]
       }
      }
     },
     "metadata": {}
    }
   ]
  },
  {
   "cell_type": "markdown",
   "metadata": {
    "id": "y3BkhfFoRwgn"
   },
   "source": [
    "# Run MarcoPolo"
   ]
  },
  {
   "cell_type": "markdown",
   "metadata": {
    "id": "kXTmowerRwgo"
   },
   "source": [
    "## Import packages"
   ]
  },
  {
   "cell_type": "code",
   "execution_count": null,
   "metadata": {
    "id": "MzCccDm6Rwgo"
   },
   "outputs": [],
   "source": [
    "# Import packages\n",
    "import pickle\n",
    "\n",
    "import numpy as np\n",
    "import pandas as pd\n",
    "import torch\n",
    "import anndata as ad\n",
    "import scanpy as sc\n",
    "import matplotlib.pyplot as plt\n",
    "\n",
    "import MarcoPolo\n",
    "\n",
    "assert torch.cuda.is_available(), \"Make sure that you started the colab kernel with GPU: Runtime -> Change runtime type -> GPU\""
   ]
  },
  {
   "cell_type": "markdown",
   "metadata": {
    "id": "bKbzeNbIRwgp"
   },
   "source": [
    "## Read scRNA-seq data"
   ]
  },
  {
   "cell_type": "markdown",
   "metadata": {
    "id": "glaoagQiRwgp"
   },
   "source": [
    "You can use **example data** or **your own data**.\n",
    "\n",
    "It should be in a AnnData format. `.X` should contain a raw count matrix of shape (# cells, # genes). You can explore example datasets below"
   ]
  },
  {
   "cell_type": "markdown",
   "metadata": {
    "id": "RERjYa7gRwgp"
   },
   "source": [
    "### example data\n",
    "We have prepared two example data: the human embryogenic stem cell (hESC) dataset of Koh et al. and the liver dataset of MacParland et al.    "
   ]
  },
  {
   "cell_type": "code",
   "execution_count": null,
   "metadata": {
    "id": "dkuBS5jTRwgp",
    "executionInfo": {
     "status": "ok",
     "timestamp": 1655486646193,
     "user_tz": 420,
     "elapsed": 1628,
     "user": {
      "displayName": "",
      "userId": ""
     }
    },
    "outputId": "c33b9ba0-71de-4b6c-eb92-2f67e0facbc0",
    "colab": {
     "base_uri": "https://localhost:8080/"
    }
   },
   "outputs": [
    {
     "output_type": "stream",
     "name": "stdout",
     "text": [
      "--2022-06-17 17:24:04--  https://raw.githubusercontent.com/chanwkimlab/MarcoPolo/main/notebooks/example/hESC.h5ad\n",
      "Resolving raw.githubusercontent.com (raw.githubusercontent.com)... 185.199.109.133, 185.199.108.133, 185.199.111.133, ...\n",
      "Connecting to raw.githubusercontent.com (raw.githubusercontent.com)|185.199.109.133|:443... connected.\n",
      "HTTP request sent, awaiting response... 200 OK\n",
      "Length: 20842419 (20M) [application/octet-stream]\n",
      "Saving to: ‘hESC.h5ad’\n",
      "\n",
      "hESC.h5ad           100%[===================>]  19.88M  --.-KB/s    in 0.1s    \n",
      "\n",
      "2022-06-17 17:24:05 (149 MB/s) - ‘hESC.h5ad’ saved [20842419/20842419]\n",
      "\n",
      "--2022-06-17 17:24:05--  https://raw.githubusercontent.com/chanwkimlab/MarcoPolo/main/notebooks/example/HumanLiver.h5ad\n",
      "Resolving raw.githubusercontent.com (raw.githubusercontent.com)... 185.199.109.133, 185.199.108.133, 185.199.111.133, ...\n",
      "Connecting to raw.githubusercontent.com (raw.githubusercontent.com)|185.199.109.133|:443... connected.\n",
      "HTTP request sent, awaiting response... 200 OK\n",
      "Length: 15403217 (15M) [application/octet-stream]\n",
      "Saving to: ‘HumanLiver.h5ad’\n",
      "\n",
      "HumanLiver.h5ad     100%[===================>]  14.69M  --.-KB/s    in 0.1s    \n",
      "\n",
      "2022-06-17 17:24:05 (123 MB/s) - ‘HumanLiver.h5ad’ saved [15403217/15403217]\n",
      "\n"
     ]
    }
   ],
   "source": [
    "!wget https://raw.githubusercontent.com/chanwkimlab/MarcoPolo/main/notebooks/example/hESC.h5ad\n",
    "!wget https://raw.githubusercontent.com/chanwkimlab/MarcoPolo/main/notebooks/example/HumanLiver.h5ad\n",
    "    \n",
    "anndata_path = \"hESC.h5ad\"\n",
    "\n",
    "# Read anndata. `anndata_path` should be in a `h5ad` format.\n",
    "adata = ad.read(anndata_path)\n",
    "\n",
    "# For fast debugging, only test first 1,000 genes.\n",
    "adata = adata[:, :1000]"
   ]
  },
  {
   "cell_type": "markdown",
   "metadata": {
    "id": "l-pjW1E-Rwgq"
   },
   "source": [
    "### your own data\n",
    "You can upload your own AnnData single cell file to this session. If you intend to use the example data, please run the following cell and upload your data."
   ]
  },
  {
   "cell_type": "code",
   "execution_count": null,
   "metadata": {
    "id": "W4xkBOEBRwgq"
   },
   "outputs": [],
   "source": [
    "from google.colab import files\n",
    "uploaded = files.upload()\n",
    "\n",
    "for file_name in uploaded.keys():\n",
    "    print('User uploaded file \"{name}\" with length {length} bytes'.format(name=file_name, length=len(uploaded[file_name])))\n",
    "    \n",
    "anndata_path = file_name\n",
    "\n",
    "# Read anndata. `anndata_path` should be in a `h5ad` format.\n",
    "adata = ad.read(anndata_path)"
   ]
  },
  {
   "cell_type": "markdown",
   "metadata": {
    "id": "OqbddBkJRwgq"
   },
   "source": [
    "## (1) Run regression"
   ]
  },
  {
   "cell_type": "code",
   "execution_count": null,
   "metadata": {
    "id": "MTRtSieQRwgq",
    "executionInfo": {
     "status": "ok",
     "timestamp": 1655487021317,
     "user_tz": 420,
     "elapsed": 309044,
     "user": {
      "displayName": "",
      "userId": ""
     }
    },
    "outputId": "e88ad514-afe2-4187-df4f-6a7514b2aa15",
    "colab": {
     "base_uri": "https://localhost:8080/"
    }
   },
   "outputs": [
    {
     "output_type": "stream",
     "name": "stdout",
     "text": [
      "<INFO> Currently, you are using 2 threads for regression. If you encounter any memory issues, try to set `num_threads` to 1.\n",
      "The numbers of clusters to test: [1, 2]\n",
      "Y: (446, 1000) X: (446, 1) s: (446,)\n"
     ]
    }
   ],
   "source": [
    "# (1) Run regression\n",
    "# Calculate size factor\n",
    "if \"size_factor\" not in adata.obs.columns:\n",
    "    norm_factor = sc.pp.normalize_total(adata, exclude_highly_expressed=True, max_fraction= 0.2, inplace=False)[\"norm_factor\"]\n",
    "    adata.obs[\"size_factor\"] = norm_factor/norm_factor.mean()\n",
    "    print(\"size factor was calculated\")\n",
    "regression_result = MarcoPolo.run_regression(adata=adata, size_factor_key=\"size_factor\",\n",
    "                         num_threads=2, device=\"cuda:0\")\n",
    "# If you use a local machine, you can set `num_threads` to higher than 1 (maybe upto 4), which will speed up the regression a lot. For some reason, num_threads>1 does not work on colab.\n",
    "\n",
    "with open(f\"{anndata_path}.regression_result.pickle\", \"wb\") as f:\n",
    "    pickle.dump(regression_result, f)"
   ]
  },
  {
   "cell_type": "markdown",
   "metadata": {
    "id": "u7wMfLjdRwgq"
   },
   "source": [
    "## (2) Find markers"
   ]
  },
  {
   "cell_type": "code",
   "execution_count": null,
   "metadata": {
    "id": "8xRU-14nRwgr",
    "executionInfo": {
     "status": "ok",
     "timestamp": 1655487088539,
     "user_tz": 420,
     "elapsed": 67236,
     "user": {
      "displayName": "",
      "userId": ""
     }
    },
    "outputId": "66b8797a-462e-475a-e2f6-014c43fdad70",
    "colab": {
     "base_uri": "https://localhost:8080/"
    }
   },
   "outputs": [
    {
     "output_type": "stream",
     "name": "stdout",
     "text": [
      "Assign cells to on-cells and off-cells...\n",
      "Calculating voting score...\n",
      "Calculating proximity score...\n",
      "Calculating bimodality score...\n",
      "Calculating MarcoPolo score...\n"
     ]
    }
   ],
   "source": [
    "# (2) Find markers\n",
    "markers_result = MarcoPolo.find_markers(adata=adata, regression_result=regression_result)\n",
    "with open(f\"{anndata_path}.markers_result.pickle\", \"wb\") as f:\n",
    "    pickle.dump(markers_result, f)"
   ]
  },
  {
   "cell_type": "markdown",
   "metadata": {
    "id": "khw3_4pdRwgr"
   },
   "source": [
    "## (3) Generate report"
   ]
  },
  {
   "cell_type": "code",
   "execution_count": null,
   "metadata": {
    "id": "wbCJrulnRwgr"
   },
   "outputs": [],
   "source": [
    "# Obtain tSNE coordinates if it does not exist in the adata.\n",
    "if \"X_tsne\" not in adata.obsm.keys():\n",
    "    sc.tl.tsne(adata=adata)"
   ]
  },
  {
   "cell_type": "code",
   "execution_count": null,
   "metadata": {
    "scrolled": false,
    "id": "CTtTnn0XRwgr",
    "executionInfo": {
     "status": "ok",
     "timestamp": 1655487955237,
     "user_tz": 420,
     "elapsed": 866709,
     "user": {
      "displayName": "",
      "userId": ""
     }
    },
    "outputId": "845217b4-bd07-474e-b8cd-05af615ffdf1",
    "colab": {
     "base_uri": "https://localhost:8080/"
    }
   },
   "outputs": [
    {
     "output_type": "stream",
     "name": "stdout",
     "text": [
      "Assign cells to on-cells and off-cells...\n",
      "Annotating genes with the gene info: https://ftp.ncbi.nih.gov/gene/DATA/GENE_INFO/Mammalia/Homo_sapiens.gene_info.gz\n"
     ]
    },
    {
     "output_type": "stream",
     "name": "stderr",
     "text": [
      "100%|██████████| 1000/1000 [00:20<00:00, 48.02it/s, Num. of unmatched genes=47]\n"
     ]
    },
    {
     "output_type": "stream",
     "name": "stdout",
     "text": [
      "47 not matched genes: ENSG00000198804, ENSG00000210082, ENSG00000198712, ENSG00000198938, ENSG00000198727, ENSG00000211459, ENSG00000198899, ENSG00000198886, ENSG00000198763, ENSG00000198888, ENSG00000198786, ENSG00000212907, ENSG00000225840, ENSG00000274474, ENSG00000183311, ENSG00000223367, ENSG00000226225, ENSG00000235650, ENSG00000096150, ENSG00000273673, ...\n",
      "Generating table files...\n"
     ]
    },
    {
     "output_type": "stream",
     "name": "stderr",
     "text": [
      "findfont: Font family ['Arial'] not found. Falling back to DejaVu Sans.\n"
     ]
    },
    {
     "output_type": "stream",
     "name": "stdout",
     "text": [
      "Generating image files...\n",
      "Drawing figures\n",
      "size factor corrected\n"
     ]
    },
    {
     "output_type": "stream",
     "name": "stderr",
     "text": [
      "\r  0%|          | 0/1000 [00:00<?, ?it/s]findfont: Font family ['Arial'] not found. Falling back to DejaVu Sans.\n",
      "findfont: Font family ['Arial'] not found. Falling back to DejaVu Sans.\n",
      "100%|██████████| 1000/1000 [12:56<00:00,  1.29it/s]\n"
     ]
    }
   ],
   "source": [
    "# (3) Generate report\n",
    "MarcoPolo.generate_report(adata=adata, size_factor_key=\"size_factor\", \n",
    "                          regression_result=regression_result, \n",
    "                          gene_scores=markers_result, \n",
    "                          output_dir=\"./\",  \n",
    "                          low_dim_key=\"X_tsne\",\n",
    "                          cell_color_key=\"cell_type\",\n",
    "                          gene_info_path=\"https://ftp.ncbi.nih.gov/gene/DATA/GENE_INFO/Mammalia/Homo_sapiens.gene_info.gz\",\n",
    "                          top_num_html=1000,\n",
    "                          top_num_image=1000)"
   ]
  },
  {
   "cell_type": "markdown",
   "metadata": {
    "id": "t93734e6Rwgr"
   },
   "source": [
    "# Download report"
   ]
  },
  {
   "cell_type": "markdown",
   "metadata": {
    "id": "eJmWyUTxRwgr"
   },
   "source": [
    "## compress the report folder "
   ]
  },
  {
   "cell_type": "code",
   "execution_count": null,
   "metadata": {
    "id": "zPtnhFVJRwgr"
   },
   "outputs": [],
   "source": [
    "!tar -zcf report.tar.gz report"
   ]
  },
  {
   "cell_type": "markdown",
   "metadata": {
    "id": "-l2TKxLvRwgr"
   },
   "source": [
    "## trigger download"
   ]
  },
  {
   "cell_type": "code",
   "execution_count": null,
   "metadata": {
    "id": "siGg5o5VRwgr",
    "executionInfo": {
     "status": "ok",
     "timestamp": 1655487957259,
     "user_tz": 420,
     "elapsed": 16,
     "user": {
      "displayName": "",
      "userId": ""
     }
    },
    "outputId": "57bf1269-d9cc-4aa0-e437-22750f5c72e8",
    "colab": {
     "base_uri": "https://localhost:8080/",
     "height": 17
    }
   },
   "outputs": [
    {
     "output_type": "display_data",
     "data": {
      "text/plain": [
       "<IPython.core.display.Javascript object>"
      ],
      "application/javascript": [
       "\n",
       "    async function download(id, filename, size) {\n",
       "      if (!google.colab.kernel.accessAllowed) {\n",
       "        return;\n",
       "      }\n",
       "      const div = document.createElement('div');\n",
       "      const label = document.createElement('label');\n",
       "      label.textContent = `Downloading \"${filename}\": `;\n",
       "      div.appendChild(label);\n",
       "      const progress = document.createElement('progress');\n",
       "      progress.max = size;\n",
       "      div.appendChild(progress);\n",
       "      document.body.appendChild(div);\n",
       "\n",
       "      const buffers = [];\n",
       "      let downloaded = 0;\n",
       "\n",
       "      const channel = await google.colab.kernel.comms.open(id);\n",
       "      // Send a message to notify the kernel that we're ready.\n",
       "      channel.send({})\n",
       "\n",
       "      for await (const message of channel.messages) {\n",
       "        // Send a message to notify the kernel that we're ready.\n",
       "        channel.send({})\n",
       "        if (message.buffers) {\n",
       "          for (const buffer of message.buffers) {\n",
       "            buffers.push(buffer);\n",
       "            downloaded += buffer.byteLength;\n",
       "            progress.value = downloaded;\n",
       "          }\n",
       "        }\n",
       "      }\n",
       "      const blob = new Blob(buffers, {type: 'application/binary'});\n",
       "      const a = document.createElement('a');\n",
       "      a.href = window.URL.createObjectURL(blob);\n",
       "      a.download = filename;\n",
       "      div.appendChild(a);\n",
       "      a.click();\n",
       "      div.remove();\n",
       "    }\n",
       "  "
      ]
     },
     "metadata": {}
    },
    {
     "output_type": "display_data",
     "data": {
      "text/plain": [
       "<IPython.core.display.Javascript object>"
      ],
      "application/javascript": [
       "download(\"download_4fc0e68c-40c6-418b-b6b4-d4230b235ac0\", \"report.tar.gz\", 38403537)"
      ]
     },
     "metadata": {}
    }
   ],
   "source": [
    "from google.colab import files\n",
    "\n",
    "files.download('report.tar.gz')"
   ]
  },
  {
   "cell_type": "code",
   "source": [
    ""
   ],
   "metadata": {
    "id": "A8f_wjK6gGGg"
   },
   "execution_count": null,
   "outputs": []
  }
 ],
 "metadata": {
  "kernelspec": {
   "display_name": "marcopolo",
   "language": "python",
   "name": "marcopolo"
  },
  "language_info": {
   "codemirror_mode": {
    "name": "ipython",
    "version": 3
   },
   "file_extension": ".py",
   "mimetype": "text/x-python",
   "name": "python",
   "nbconvert_exporter": "python",
   "pygments_lexer": "ipython3",
   "version": "3.8.13"
  },
  "colab": {
   "name": "MarcoPolo.ipynb",
   "provenance": [
    {
     "file_id": "https://github.com/chanwkimlab/MarcoPolo/blob/main/notebooks/MarcoPolo.ipynb",
     "timestamp": 1655488039317
    },
    {
     "file_id": "https://github.com/chanwkimlab/MarcoPolo/blob/main/notebooks/MarcoPolo.ipynb",
     "timestamp": 1655450808864
    }
   ],
   "toc_visible": true,
   "collapsed_sections": []
  },
  "accelerator": "GPU",
  "gpuClass": "standard"
 },
 "nbformat": 4,
 "nbformat_minor": 0
}